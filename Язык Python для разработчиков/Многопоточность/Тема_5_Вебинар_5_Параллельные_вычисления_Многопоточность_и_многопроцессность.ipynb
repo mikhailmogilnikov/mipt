{
  "cells": [
    {
      "cell_type": "markdown",
      "id": "e05c7cc7-1511-4755-9fd6-8a7ea5e7a070",
      "metadata": {
        "id": "e05c7cc7-1511-4755-9fd6-8a7ea5e7a070"
      },
      "source": [
        "#  Вебинар 5. Параллельные вычисления. Многопоточность и многопроцессность. Асинхронность"
      ]
    },
    {
      "cell_type": "markdown",
      "id": "fe8ce19f",
      "metadata": {
        "id": "fe8ce19f"
      },
      "source": [
        "## Проверка связи"
      ]
    },
    {
      "cell_type": "markdown",
      "id": "e821796f",
      "metadata": {
        "id": "e821796f"
      },
      "source": [
        "**Поставьте в чат:**<br>\n",
        "\\+ если меня видно и слышно<br>\n",
        "– если нет\n",
        "\n",
        "**Если у вас нет звука:**\n",
        "\n",
        "* убедитесь, что на вашем устройстве и в колонках включён звук\n",
        "\n",
        "* обновите страницу вебинара или закройте страницу и переподключитесь\n",
        "\n",
        "* откройте вебинар в другом браузере\n",
        "\n",
        "* перезагрузите ваше устройство и войдите снова"
      ]
    },
    {
      "cell_type": "markdown",
      "id": "9356ef66",
      "metadata": {
        "id": "9356ef66"
      },
      "source": [
        "## О спикере"
      ]
    },
    {
      "cell_type": "markdown",
      "id": "4a25cd20",
      "metadata": {
        "id": "4a25cd20"
      },
      "source": [
        "**Глеб Пехов**\n",
        "- Backend-разработчик на Python с 5-летним опытом работы\n",
        "- Преподаватель в Нетологии"
      ]
    },
    {
      "cell_type": "markdown",
      "id": "4db8c558",
      "metadata": {
        "id": "4db8c558"
      },
      "source": [
        "## Правила участия"
      ]
    },
    {
      "cell_type": "markdown",
      "id": "73eb23f1",
      "metadata": {
        "id": "73eb23f1"
      },
      "source": [
        "1. Продолжительность вебинара — 80 минут. Через 40 минут сделаем перерыв на 5 минут\n",
        "2. Запустите Jupyter Notebook / Google Colab / IDE для выполнения практических заданий вебинара. Во время демонстрации работы повторяйте за спикером: так вы лучше поймёте материал\n",
        "3. Вопросы и уточнения:\n",
        "  - создайте копию этого блокнота, чтобы фиксировать вопросы и важную информацию во время занятия\n",
        "  - вы можете писать вопросы в чате во время вебинара или озвучивать их в блоке «Ваши вопросы»\n",
        "4. Запись вебинара будет доступна в личном кабинете"
      ]
    },
    {
      "cell_type": "markdown",
      "id": "8306d32d",
      "metadata": {
        "id": "8306d32d"
      },
      "source": [
        "## Цели занятия"
      ]
    },
    {
      "cell_type": "markdown",
      "id": "fa050fbe",
      "metadata": {
        "id": "fa050fbe"
      },
      "source": [
        "- Познакомиться с принципом параллельных вычислений\n",
        "- Узнать, что такое потоки и процессы\n",
        "- Рассмотреть принципы многопоточности и многопроцессности\n",
        "- Узнать, как использовать async/await\n",
        "- Научиться решать несложные задачи, используя принцип параллельных вычислений"
      ]
    },
    {
      "cell_type": "markdown",
      "id": "3dad1324",
      "metadata": {
        "id": "3dad1324"
      },
      "source": [
        "## План занятия"
      ]
    },
    {
      "cell_type": "markdown",
      "id": "1399195b",
      "metadata": {
        "id": "1399195b"
      },
      "source": [
        "[1. Терминология конкурентности](#1.-Терминология-конкурентности)<br>\n",
        "[2. Реализация индикатора с потоками](#2.-Реализация-индикатора-с-потоками)<br>\n",
        "[3. Реализация индикатора с процессами](№3.-Реализация-индикатора-с-процессами)<br>\n",
        "[4. Реализация индикатора с асинхронностью](№4.-Реализация-индикатора-с-асинхронностью)<br>\n",
        "[5. Сравнение супервизоров](№5.-Сравнение-супервизоров)<br>\n",
        "[6. Примеры кода с async/await](№6.-Примеры-кода-с-async/await)<br>"
      ]
    },
    {
      "cell_type": "markdown",
      "id": "faa7f8ae",
      "metadata": {
        "id": "faa7f8ae"
      },
      "source": [
        "## Ваши вопросы"
      ]
    },
    {
      "cell_type": "markdown",
      "id": "33c5d5ee",
      "metadata": {
        "id": "33c5d5ee"
      },
      "source": [
        "## 1. Терминология конкурентности"
      ]
    },
    {
      "cell_type": "markdown",
      "id": "7cafcdd0",
      "metadata": {
        "id": "7cafcdd0"
      },
      "source": [
        "**Конкурентность** — способность обрабатывать несколько задач с чередованием или, если это возможно, параллельно, так что каждая задача в итоге завершается успешно или с ошибкой. Одноядерный процессор допускает конкурентность, если он работает под управлением планировщика ОС, который чередует выполнение ожидающих задач. Иногда используется название «многозадачность»."
      ]
    },
    {
      "cell_type": "markdown",
      "id": "f88bed9a",
      "metadata": {
        "id": "f88bed9a"
      },
      "source": [
        "**Параллелизм** — способность выполнять несколько вычислений одновременно. Для этого необходим многоядерный процессор, несколько процессоров, графический процессор (GPU) или кластер из нескольких компьютеров."
      ]
    },
    {
      "cell_type": "markdown",
      "id": "3ef8beff",
      "metadata": {
        "id": "3ef8beff"
      },
      "source": [
        "**Единица выполнения** — общий термин для объектов, выполняющих код конкурентно, каждый из которых имеет независимые от других состояния и стек вызовов. Python поддерживает три вида единиц выполнения: процессы, потоки и сопрограммы."
      ]
    },
    {
      "cell_type": "markdown",
      "id": "1a5a87e2",
      "metadata": {
        "id": "1a5a87e2"
      },
      "source": [
        "**Процесс** — экземпляр компьютерной программы во время её выполнения, которому выделены память и квант процессорного времени. Современные ОС для настольных компьютеров свободно управляют сотнями конкурентных процессов, при этом каждый процесс изолирован в своём адресном пространстве.\n",
        "\n",
        "Процессы взаимодействуют через каналы, сокеты или отображённые на память файлы — все они могут передавать только голые байты. Чтобы передать объект Python из одного процесса в другой, его нужно сериализовать в виде последовательности байтов. Это дорого, и не все объекты допускают сериализацию. Процесс может порождать подпроцессы или дочерние процессы. Они изолированы и друг от друга, и от родительского процесса.\n",
        "\n",
        "Процессы допускают вытесняющую многозадачность: планировщик ОС периодически вытесняет работающий процесс, т. е. приостанавливает его, чтобы дать возможность поработать остальным. Это означает, что в теории зависший процесс не может застопорить всю систему."
      ]
    },
    {
      "cell_type": "markdown",
      "id": "7a81e345",
      "metadata": {
        "id": "7a81e345"
      },
      "source": [
        "**Поток** — единица выполнения внутри одного процесса.\n",
        "\n",
        "Сразу после запуска процесс содержит один поток — главный. Вызывая системные API, процесс может создавать дополнительные потоки, которые будут работать конкурентно.\n",
        "\n",
        "Потоки внутри одного процесса разделяют общее пространство памяти, в которой находятся активные объекты Python. Это позволяет потокам совместно использовать данные, но может приводить к повреждению данных, когда сразу несколько потоков пытаются обновить один и тот же объект. Как и процессы, потоки допускают вытесняющую многозадачность под управлением планировщика ОС. Поток потребляет меньше ресурсов, чем процесс, для выполнения одной и той же работы."
      ]
    },
    {
      "cell_type": "markdown",
      "id": "e2292b6a",
      "metadata": {
        "id": "e2292b6a"
      },
      "source": [
        "**Сопрограмма** — функция, которая может приостановить своё выполнение и возобновить его позже.\n",
        "\n",
        "В Python классические сопрограммы строятся на основе генераторных функций, а платформенные определяются с помощью ключевых слов async def.\n",
        "\n",
        "Обычно сопрограммы в Python исполняются в одном потоке под управлением цикла событий, который работает в том же потоке. Каркасы асинхронного программирования asyncio, curio или trio предоставляют цикл событий и поддерживающие библиотеки для реализации неблокирующего ввода-вывода на основе сопрограмм.\n",
        "\n",
        "Сопрограммы поддерживают кооперативную многозадачность: каждая из них должна явно уступать процессор с помощью ключевого слова yield или await, чтобы другие части программы могли работать конкурентно, но не параллельно. Это означает, что любой блокирующий код внутри сопрограммы блокирует выполнение цикла событий и остальных сопрограмм, в отличие от вытесняющей многозадачности, которую поддерживают процессы и потоки. С другой стороны, сопрограммы потребляют меньше ресурсов по сравнению с процессами и потоками, выполняющими ту же работу."
      ]
    },
    {
      "cell_type": "markdown",
      "id": "d81695d6",
      "metadata": {
        "id": "d81695d6"
      },
      "source": [
        "**Блокировка** — объект, который единицы выполнения могут использовать для синхронизации своих действий, чтобы избежать повреждения данных.\n",
        "\n",
        "Во время обновления разделяемой структуры данных исполняемый код должен удерживать ассоциированную блокировку. Это служит для остальных частей программы сигналом, что нужно подождать, пока блокировка освободится, и только потом обращаться к той же структуре данных.\n",
        "\n",
        "Простейший вид блокировки называется **мьютексом** (mutual exclusion, взаимное исключение). Реализация блокировки зависит от модели конкурентности."
      ]
    },
    {
      "cell_type": "markdown",
      "id": "8867dd89",
      "metadata": {
        "id": "8867dd89"
      },
      "source": [
        "**Состязание** — спор за ограниченный ресурс. Оно возникает, когда несколько единиц выполнения пытаются обратиться к разделяемому ресурсу, например к блокировке или хранилищу. Бывает и состязание за процессор, когда\n",
        "счётные процессы или потоки должны ждать, пока планировщик ОС выделит им долю процессорного времени.\n",
        "\n",
        "Теперь воспользуемся изученной терминологией, чтобы понять, как конкурентность поддерживается в Python."
      ]
    },
    {
      "cell_type": "markdown",
      "id": "dIGQdKvJiERc",
      "metadata": {
        "id": "dIGQdKvJiERc"
      },
      "source": [
        "## Ваши вопросы"
      ]
    },
    {
      "cell_type": "markdown",
      "id": "d895c97e",
      "metadata": {
        "id": "d895c97e"
      },
      "source": [
        "## 2. Реализация индикатора с потоками"
      ]
    },
    {
      "cell_type": "code",
      "execution_count": null,
      "id": "749ec07f",
      "metadata": {
        "id": "749ec07f",
        "outputId": "0a9ce9b8-050b-46f5-c90c-94324b8e3fdc"
      },
      "outputs": [
        {
          "name": "stdout",
          "output_type": "stream",
          "text": [
            "- thinking... Answer: 42\n"
          ]
        }
      ],
      "source": [
        "import itertools\n",
        "import time\n",
        "from threading import Thread, Event\n",
        "\n",
        "def spin(message: str, done_event: Event) -> None:\n",
        "    for character in itertools.cycle(r\"\\|/-\"):\n",
        "        status = f\"\\r{character} {message}\"\n",
        "        print(status, end=\"\", flush=True)\n",
        "        if done_event.wait(0.1):\n",
        "            break\n",
        "        blanks = ' ' * (len(status) - 1)\n",
        "        print(f'\\r{blanks}\\r', end=\"\")\n",
        "\n",
        "def slow_function() -> int:\n",
        "    time.sleep(3)\n",
        "    return 42\n",
        "\n",
        "def supervisor() -> int:\n",
        "    done_event = Event()\n",
        "    spinner_thread = Thread(target=spin, args=(\"thinking... \", done_event))\n",
        "    spinner_thread.start()\n",
        "    result = slow_function()\n",
        "    done_event.set()\n",
        "    spinner_thread.join()\n",
        "    return result\n",
        "\n",
        "def main() -> None:\n",
        "    result = supervisor()\n",
        "    print(f\"Answer: {result}\")\n",
        "\n",
        "if __name__ == '__main__':\n",
        "    main()"
      ]
    },
    {
      "cell_type": "markdown",
      "id": "383f2ef9",
      "metadata": {
        "id": "383f2ef9"
      },
      "source": [
        "1. Аргумент done, экземпляр класса threading.Event — простой объект для синхронизации потоков\n",
        "2. Функция slow_function() вызывается из главного потока. Представьте, что это вызов медленного API по сети. Вызов sleep блокирует главный поток, но GIL при этом освобождается, поэтому поток индикатора продолжает работать"
      ]
    },
    {
      "cell_type": "markdown",
      "id": "UpcMYA_ciHmg",
      "metadata": {
        "id": "UpcMYA_ciHmg"
      },
      "source": [
        "## Ваши вопросы"
      ]
    },
    {
      "cell_type": "markdown",
      "id": "afe0030d",
      "metadata": {
        "id": "afe0030d"
      },
      "source": [
        "## 3. Реализация индикатора с процессами"
      ]
    },
    {
      "cell_type": "code",
      "execution_count": 1,
      "id": "1322d52b",
      "metadata": {
        "id": "1322d52b",
        "outputId": "6cbcf409-a4f6-4f48-f36e-acc5b54a927c"
      },
      "outputs": [
        {
          "name": "stderr",
          "output_type": "stream",
          "text": [
            "Traceback (most recent call last):\n",
            "  File \"<string>\", line 1, in <module>\n",
            "  File \"/Applications/Xcode.app/Contents/Developer/Library/Frameworks/Python3.framework/Versions/3.9/lib/python3.9/multiprocessing/spawn.py\", line 116, in spawn_main\n",
            "    exitcode = _main(fd, parent_sentinel)\n",
            "  File \"/Applications/Xcode.app/Contents/Developer/Library/Frameworks/Python3.framework/Versions/3.9/lib/python3.9/multiprocessing/spawn.py\", line 126, in _main\n",
            "    self = reduction.pickle.load(from_parent)\n",
            "AttributeError: Can't get attribute 'spin' on <module '__main__' (built-in)>\n"
          ]
        },
        {
          "name": "stdout",
          "output_type": "stream",
          "text": [
            "Answer: 42\n"
          ]
        }
      ],
      "source": [
        "import itertools\n",
        "import time\n",
        "from multiprocessing import Process, Event, Queue, synchronize\n",
        "\n",
        "def spin(message: str, done_event: synchronize.Event) -> None:\n",
        "    for character in itertools.cycle(r\"\\|/-\"):\n",
        "        status = f\"\\r{character} {message}\"\n",
        "        print(status, end=\"\", flush=True)\n",
        "        if done_event.wait(0.1):\n",
        "            break\n",
        "        blanks = ' ' * (len(status) - 1)\n",
        "        print(f'\\r{blanks}\\r', end=\"\")\n",
        "\n",
        "def slow_function(queue: Queue) -> None:\n",
        "    time.sleep(3)\n",
        "    queue.put(42)\n",
        "\n",
        "def supervisor() -> int:\n",
        "    done_event = Event()\n",
        "    queue = Queue()\n",
        "\n",
        "    spinner = Process(target=spin, args=(\"thinking... \", done_event))\n",
        "    spinner.start()\n",
        "\n",
        "    slow_function(queue)\n",
        "\n",
        "    done_event.set()\n",
        "    spinner.join()\n",
        "\n",
        "    return queue.get()\n",
        "\n",
        "def main() -> None:\n",
        "    result = supervisor()\n",
        "    print(f\"Answer: {result}\")\n",
        "\n",
        "if __name__ == '__main__':\n",
        "    main()"
      ]
    },
    {
      "cell_type": "markdown",
      "id": "BG4jRDRjiU2h",
      "metadata": {
        "id": "BG4jRDRjiU2h"
      },
      "source": [
        "## Ваши вопросы"
      ]
    },
    {
      "cell_type": "markdown",
      "id": "bea5e0e5",
      "metadata": {
        "id": "bea5e0e5"
      },
      "source": [
        "## 4. Реализация индикатора с асинхронностью"
      ]
    },
    {
      "cell_type": "markdown",
      "id": "1f005d17",
      "metadata": {
        "id": "1f005d17"
      },
      "source": [
        "## Немного синтаксиса"
      ]
    },
    {
      "cell_type": "code",
      "execution_count": null,
      "id": "0790413d",
      "metadata": {
        "id": "0790413d"
      },
      "outputs": [],
      "source": [
        "import asyncio\n",
        "\n",
        "asyncio.run(coro()) # Вызывается из регулярной функции для управления объектом сопрограммы, который обычно является точкой входа в весь асинхронный код программы, как supervisor в этом примере. Этот вызов блокирует выполнение"
      ]
    },
    {
      "cell_type": "code",
      "execution_count": null,
      "id": "76bfde39",
      "metadata": {
        "id": "76bfde39"
      },
      "outputs": [],
      "source": [
        "import asyncio\n",
        "\n",
        "asyncio.create_task(coro()) # Вызывается из сопрограммы, чтобы запланировать выполнение другой сопрограммы. Этот вызов не приостанавливает текущую сопрограмму. Он возвращает экземпляр Task — объект, который обёртывает объект сопрограммы и предоставляет методы для управления ею и для опроса её состояния"
      ]
    },
    {
      "cell_type": "code",
      "execution_count": null,
      "id": "19efdc52",
      "metadata": {
        "id": "19efdc52"
      },
      "outputs": [],
      "source": [
        "await coro() # Вызывается из сопрограммы, чтобы передать управление объекту сопрограммы, возвращённому coro(). Этот вызов приостанавливает текущую сопрограмму до возврата из coro. Значением выражения await является значение, возвращённое coro"
      ]
    },
    {
      "cell_type": "markdown",
      "id": "1281811c",
      "metadata": {
        "id": "1281811c"
      },
      "source": [
        "## Реализация"
      ]
    },
    {
      "cell_type": "code",
      "execution_count": null,
      "id": "442bc554",
      "metadata": {
        "id": "442bc554"
      },
      "outputs": [],
      "source": [
        "\n",
        "import asyncio\n",
        "import itertools\n",
        "\n",
        "async def spin(msg: str) -> None:\n",
        "    for char in itertools.cycle(r\"\\|/-\"):\n",
        "        status = f\"{char} {msg}\"\n",
        "        print(status, end=\"\\r\")\n",
        "        try:\n",
        "            await asyncio.sleep(.1)\n",
        "        except asyncio.CancelledError:\n",
        "            break\n",
        "    blanks = \" \" * len(status)\n",
        "    print(f\"{blanks}\\r\", end=\"\")\n",
        "\n",
        "async def slow_function() -> int:\n",
        "    await asyncio.sleep(3)\n",
        "    return 42\n",
        "\n",
        "\n",
        "def main() -> None:\n",
        "    result = asyncio.run(supervisor())\n",
        "    print(f\"Answer: {result}\")\n",
        "\n",
        "async def supervisor() -> int:\n",
        "    spinner = asyncio.create_task(spin('thinking...'))\n",
        "    print(f\"spinner object: {spinner}\")\n",
        "    result = await slow_function()\n",
        "    spinner.cancel()\n",
        "    return result\n",
        "\n",
        "\n",
        "if __name__ == '__main__':\n",
        "    main()\n"
      ]
    },
    {
      "cell_type": "markdown",
      "id": "0c5dee41",
      "metadata": {
        "id": "0c5dee41"
      },
      "source": [
        "## Сломаем код ради понимания процесса"
      ]
    },
    {
      "cell_type": "code",
      "execution_count": null,
      "id": "a6e52d3e",
      "metadata": {
        "id": "a6e52d3e"
      },
      "outputs": [],
      "source": [
        "\n",
        "import asyncio\n",
        "import itertools\n",
        "import time\n",
        "\n",
        "async def spin(msg: str) -> None:\n",
        "    for char in itertools.cycle(r\"\\|/-\"):\n",
        "        status = f\"{char} {msg}\"\n",
        "        print(status, end=\"\\r\")\n",
        "        try:\n",
        "            await asyncio.sleep(.1)\n",
        "        except asyncio.CancelledError:\n",
        "            break\n",
        "    blanks = \" \" * len(status)\n",
        "    print(f\"{blanks}\\r\", end=\"\")\n",
        "\n",
        "async def slow_function() -> int:\n",
        "    time.sleep(3)\n",
        "    return 42\n",
        "\n",
        "\n",
        "def main() -> None:\n",
        "    result = asyncio.run(supervisor())\n",
        "    print(f\"Answer: {result}\")\n",
        "\n",
        "async def supervisor() -> int:\n",
        "    spinner = asyncio.create_task(spin('thinking...'))\n",
        "    print(f\"spinner object: {spinner}\")\n",
        "    result = await slow_function()\n",
        "    spinner.cancel()\n",
        "    return result\n",
        "\n",
        "\n",
        "if __name__ == '__main__':\n",
        "    main()\n"
      ]
    },
    {
      "cell_type": "markdown",
      "id": "e14b797f",
      "metadata": {
        "id": "e14b797f"
      },
      "source": [
        "1. Создаётся задача spinner, чтобы в конечном итоге активировать выполнение spin\n",
        "2. На экране показано, что Task находится в состоянии pending\n",
        "3. Выражение await передаёт управление сопрограмме slow\n",
        "4. time.sleep(3) блокирует выполнение на 3 секунды. В  программе ничего не  может произойти, потому что главный поток блокирован, а он единственный. Операционная система продолжит заниматься другими делами. Спустя 3 секунды sleep завершается, выполнение возобновляется и slow возвращает управление\n",
        "5. Сразу после возврата из slow задача spinner отменяется. Поток управления\n",
        "так и не дошёл до тела сопрограммы spin"
      ]
    },
    {
      "cell_type": "markdown",
      "id": "DDe27Chji2C6",
      "metadata": {
        "id": "DDe27Chji2C6"
      },
      "source": [
        "## Ваши вопросы"
      ]
    },
    {
      "cell_type": "markdown",
      "id": "c5585225",
      "metadata": {
        "id": "c5585225"
      },
      "source": [
        "## 5. Сравнение супервизоров"
      ]
    },
    {
      "cell_type": "code",
      "execution_count": null,
      "id": "b9dce199",
      "metadata": {
        "id": "b9dce199"
      },
      "outputs": [],
      "source": [
        "def supervisor() -> int:\n",
        "    done_event = Event()\n",
        "    spinner_thread = Thread(target=spin, args=(\"thinking... \", done_event))\n",
        "    spinner_thread.start()\n",
        "    result = slow_function()\n",
        "    done_event.set()\n",
        "    spinner_thread.join()\n",
        "    return result"
      ]
    },
    {
      "cell_type": "code",
      "execution_count": null,
      "id": "12bca503",
      "metadata": {
        "id": "12bca503"
      },
      "outputs": [],
      "source": [
        "async def supervisor() -> int:\n",
        "    spinner = asyncio.create_task(spin('thinking...'))\n",
        "    print(f\"spinner object: {spinner}\")\n",
        "    result = await slow_function()\n",
        "    spinner.cancel()\n",
        "    return result"
      ]
    },
    {
      "cell_type": "markdown",
      "id": "7a5a6e95",
      "metadata": {
        "id": "7a5a6e95"
      },
      "source": [
        "- Класс asyncio.Task приблизительно эквивалентен threading.Thread\n",
        "- Task управляет объектом сопрограммы, а Thread обращается к вызываемому объекту\n",
        "- Сопрограмма уступает управление явно с помощью ключевого слова await\n",
        "- Мы не создаём объекты Task самостоятельно, а получаем их, передавая сопрограмму функции asyncio.create_task(…)\n",
        "- Когда asyncio.create_task(…) возвращает объект Task, его выполнение уже запланировано. А экземпляру Thread нужно явно сказать, что пора выполняться, вызвав его метод start\n",
        "- В многопоточной версии supervisor slow является простой функцией и напрямую вызывается из главного потока. В асинхронной же версии slow — сопрограмма, активируемая await\n",
        "- Не существует API для завершения потока извне. Вместо этого нужно послать потоку сигнал, например установить объект Event done. Для задач есть метод экземпляра Task.cancel(), который возбуждает исключение CancelledError в том выражении await, в котором в текущий момент приостановлено выполнение тела сопрограммы\n",
        "- Сопрограмму supervisor нужно запускать с помощью asyncio.run в функции main"
      ]
    },
    {
      "cell_type": "markdown",
      "id": "71d73e3c",
      "metadata": {
        "id": "71d73e3c"
      },
      "source": [
        "##  Истинное влияние GIL"
      ]
    },
    {
      "cell_type": "code",
      "execution_count": null,
      "id": "98a8d017",
      "metadata": {
        "id": "98a8d017",
        "outputId": "a0fccdc2-16bd-448c-8302-43af7b266f91"
      },
      "outputs": [
        {
          "name": "stdout",
          "output_type": "stream",
          "text": [
            "False\n"
          ]
        }
      ],
      "source": [
        "import math\n",
        "\n",
        "def is_prime(n: int) -> bool:\n",
        "    if n < 2:\n",
        "        return False\n",
        "    if n == 2:\n",
        "        return True\n",
        "    if n % 2 == 0:\n",
        "        return False\n",
        "    max_divisor = math.floor(math.sqrt(n))\n",
        "    for i in range(3, 1 + max_divisor, 2):\n",
        "        if n % i == 0:\n",
        "            return False\n",
        "    return True\n",
        "\n",
        "if __name__ == '__main__':\n",
        "    print(is_prime(10_000_000_000_000_037))"
      ]
    },
    {
      "cell_type": "markdown",
      "id": "bfdb5aa1",
      "metadata": {
        "id": "bfdb5aa1"
      },
      "source": [
        "### Представим, что эта проверка на простоту работает примерно 3 секунды на среднем компьютере.\n",
        "### Важный вопрос: можно ли заменить ею вызов time.sleep(3) | asyncio.sleep(3)?"
      ]
    },
    {
      "cell_type": "markdown",
      "id": "87a4b109",
      "metadata": {
        "id": "87a4b109"
      },
      "source": [
        "## Ответы на вопросы"
      ]
    },
    {
      "cell_type": "markdown",
      "id": "ad4dcdc4",
      "metadata": {
        "id": "ad4dcdc4"
      },
      "source": [
        "### Ответ для multiprocessing\n",
        "\n",
        "Индикатор управляется дочерним процессом, поэтому будет крутиться и тогда, когда родительский процесс проверяет число на простоту."
      ]
    },
    {
      "cell_type": "markdown",
      "id": "28461457",
      "metadata": {
        "id": "28461457"
      },
      "source": [
        "### Ответ для threading\n",
        "Индикатор управляется дополнительным потоком, поэтому будет крутиться\n",
        "и тогда, когда главный поток проверяет число на простоту.\n",
        "\n",
        "Я пришёл к этому ответу не сразу: я ожидал, что индикатор прекратит крутиться, потому что переоценил воздействие GIL.\n",
        "\n",
        "В этом примере индикатор продолжает крутиться, потому что Python приостанавливает работающий поток раз в 5 мс (по умолчанию), делая GIL доступной другим ожидающим потокам. Поэтому главный поток, исполняющий\n",
        "is_prime, прерывается каждые 5 мс, так что дополнительный поток может проснуться и выполнить одну итерацию цикла for, в конце которой\n",
        "он вызовет метод wait события done и освободит GIL. Затем главный поток захватит GIL, и вычисление is_prime продолжится на протяжении следующих 5 мс.\n",
        "Это не оказывает видимого влияния на время работы в этом примере, поскольку функция spin быстро выполняет одну итерацию и освобождает\n",
        "GIL в ожидании события done, поэтому интенсивность состязания за GIL невелика. Главный поток, исполняющий is_prime, владеет GIL бо́льшую часть времени.\n",
        "\n",
        "В этом простом примере мы разобрались со счётной задачей, потому что\n",
        "потоков всего два: один полностью загружает процессор, а второй просыпается всего 10 раз в секунду, чтобы обновить индикатор.\n",
        "Но если потоков два или больше и все они сильно потребляют процессорное\n",
        "время, то программа будет работать медленнее, чем последовательный код."
      ]
    },
    {
      "cell_type": "markdown",
      "id": "e0cbc33b",
      "metadata": {
        "id": "e0cbc33b"
      },
      "source": [
        "### Ответ для asyncio"
      ]
    },
    {
      "cell_type": "markdown",
      "id": "62683a14",
      "metadata": {
        "id": "62683a14"
      },
      "source": [
        "Если вызвать is_prime(5_000_111_000_222_021) в сопрограмме slow в примере\n",
        "spinner_async.py, то индикатор вообще не появится на экране. Эффект будет такой же, как в примере, где мы заменили await asyncio.sleep(3) на time.sleep(3): никакого вращения. Поток управления переходит от supervisor к slow и затем к is_prime. Когда is_prime возвращается, то же самое делает и slow, и supervisor возобновляет работу и отменяет задачу spinner, не дав ей выполниться даже один раз. Выглядит это так, будто программа зависла на 3 с, а затем выдала ответ."
      ]
    },
    {
      "cell_type": "markdown",
      "id": "zOL_uNC4k6wp",
      "metadata": {
        "id": "zOL_uNC4k6wp"
      },
      "source": [
        "## Ваши вопросы"
      ]
    },
    {
      "cell_type": "markdown",
      "id": "6b8cca8e",
      "metadata": {
        "id": "6b8cca8e"
      },
      "source": [
        "## 6. Примеры кода с async/await"
      ]
    },
    {
      "cell_type": "code",
      "execution_count": null,
      "id": "91efc483",
      "metadata": {
        "id": "91efc483"
      },
      "outputs": [],
      "source": [
        "import asyncio\n",
        "\n",
        "async def fetch_data(delay: int, name: str):\n",
        "    print(f\"Начинаю загрузку {name}...\")\n",
        "    await asyncio.sleep(delay)  # Имитация задержки при загрузке\n",
        "    print(f\"{name} загружен!\")\n",
        "\n",
        "async def main():\n",
        "    tasks = [\n",
        "        fetch_data(2, \"Данные 1\"),\n",
        "        fetch_data(3, \"Данные 2\"),\n",
        "        fetch_data(1, \"Данные 3\"),\n",
        "    ]\n",
        "\n",
        "    await asyncio.gather(*tasks)  # Ожидание завершения всех задач\n",
        "\n",
        "# Запуск основной корутины\n",
        "if __name__ == '__main__':\n",
        "    asyncio.run(main())"
      ]
    },
    {
      "cell_type": "code",
      "execution_count": null,
      "id": "4cec510a",
      "metadata": {
        "id": "4cec510a"
      },
      "outputs": [],
      "source": [
        "import aiohttp\n",
        "import asyncio\n",
        "\n",
        "async def fetch_url(url):\n",
        "    async with aiohttp.ClientSession() as session:\n",
        "        async with session.get(url) as response:\n",
        "            return await response.text()\n",
        "\n",
        "async def main():\n",
        "    urls = [\n",
        "        'https://www.example.com',\n",
        "        'https://www.python.org',\n",
        "        'https://www.github.com'\n",
        "    ]\n",
        "\n",
        "    tasks = [fetch_url(url) for url in urls]\n",
        "    results = await asyncio.gather(*tasks)\n",
        "\n",
        "    for i, result in enumerate(results):\n",
        "        print(f\"Content from {urls[i]}: {result[:0]}...\")\n",
        "\n",
        "if __name__ == '__main__':\n",
        "    asyncio.run(main())\n"
      ]
    },
    {
      "cell_type": "code",
      "execution_count": null,
      "id": "04f954a1",
      "metadata": {
        "id": "04f954a1"
      },
      "outputs": [],
      "source": [
        "import aiofiles\n",
        "import asyncio\n",
        "\n",
        "async def read_file(file_name):\n",
        "    async with aiofiles.open(file_name, mode='r') as file:\n",
        "        content = await file.read()\n",
        "        print(f\"Содержимое {file_name}: {content[:50]}...\")  # Печатаем первые 50 символов\n",
        "\n",
        "async def main():\n",
        "    files = ['file1.txt', 'file2.txt', 'file3.txt']\n",
        "    tasks = [read_file(file) for file in files]\n",
        "    await asyncio.gather(*tasks)\n",
        "\n",
        "if __name__ == '__main__':\n",
        "    asyncio.run(main())"
      ]
    },
    {
      "cell_type": "markdown",
      "id": "egUWNzP4nBlQ",
      "metadata": {
        "id": "egUWNzP4nBlQ"
      },
      "source": [
        "## Ваши вопросы"
      ]
    },
    {
      "cell_type": "markdown",
      "id": "PRP8HGnhmoRe",
      "metadata": {
        "id": "PRP8HGnhmoRe"
      },
      "source": [
        "## Итоги занятия"
      ]
    },
    {
      "cell_type": "markdown",
      "id": "YWpXVc2HmoRo",
      "metadata": {
        "id": "YWpXVc2HmoRo"
      },
      "source": [
        "- Познакомились с принципом параллельных вычислений\n",
        "- Узнали, что такое потоки и процессы\n",
        "- Рассмотрели принципы многопоточности и многопроцессности\n",
        "- Узнали, как использовать async/await\n",
        "- Научились решать несложные задачи, используя принцип параллельных вычислений"
      ]
    },
    {
      "cell_type": "markdown",
      "id": "59ecef84",
      "metadata": {
        "id": "59ecef84"
      },
      "source": [
        "## Домашнее задание"
      ]
    },
    {
      "cell_type": "markdown",
      "id": "0f4bc2a3",
      "metadata": {
        "id": "0f4bc2a3"
      },
      "source": [
        "###  Цели задания:\n",
        "- научиться использовать принципы многопоточности и многопроцессности в написании кода\n",
        "- научиться работать с асинхронностью\n",
        "\n",
        "###  Задание:\n",
        "1. Напишите программу, которая создаёт два потока для вычисления квадратов и кубов чисел от 1 до 10"
      ]
    },
    {
      "cell_type": "markdown",
      "id": "f52c206d",
      "metadata": {
        "id": "f52c206d"
      },
      "source": [
        "2. Напишите программу, которая создаёт несколько потоков для выполнения функции, выводящей числа от 1 до 10 с задержкой в 1 секунду"
      ]
    },
    {
      "cell_type": "markdown",
      "id": "606bbdbd",
      "metadata": {
        "id": "606bbdbd"
      },
      "source": [
        "3. Напишите программу, которая асинхронно обрабатывает список чисел, вычисляя их квадрат. Каждая операция обработки должна имитировать задержку в 1 секунду"
      ]
    },
    {
      "cell_type": "markdown",
      "id": "4eea7453",
      "metadata": {
        "id": "4eea7453"
      },
      "source": [
        "4. Напишите программу, которая использует многопроцессность для вычисления факториала чисел от 1 до 10. Каждый процесс должен вычислять факториал одного числа"
      ]
    },
    {
      "cell_type": "markdown",
      "id": "rB09YSE9cUi8",
      "metadata": {
        "id": "rB09YSE9cUi8"
      },
      "source": [
        "## Анонс следующего занятия"
      ]
    },
    {
      "cell_type": "markdown",
      "id": "GV6taRNgcd-m",
      "metadata": {
        "id": "GV6taRNgcd-m"
      },
      "source": [
        "Вебинар по теме 6 «Классы и объекты»"
      ]
    }
  ],
  "metadata": {
    "colab": {
      "provenance": []
    },
    "kernelspec": {
      "display_name": "Python 3",
      "language": "python",
      "name": "python3"
    },
    "language_info": {
      "codemirror_mode": {
        "name": "ipython",
        "version": 3
      },
      "file_extension": ".py",
      "mimetype": "text/x-python",
      "name": "python",
      "nbconvert_exporter": "python",
      "pygments_lexer": "ipython3",
      "version": "3.9.6"
    }
  },
  "nbformat": 4,
  "nbformat_minor": 5
}
