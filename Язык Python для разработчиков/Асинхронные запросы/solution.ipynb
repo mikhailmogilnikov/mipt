{
 "cells": [
  {
   "cell_type": "code",
   "execution_count": 20,
   "metadata": {},
   "outputs": [
    {
     "name": "stdout",
     "output_type": "stream",
     "text": [
      "Requirement already satisfied: requests in /Library/Frameworks/Python.framework/Versions/3.12/lib/python3.12/site-packages (2.32.3)\n",
      "Requirement already satisfied: charset-normalizer<4,>=2 in /Library/Frameworks/Python.framework/Versions/3.12/lib/python3.12/site-packages (from requests) (3.4.0)\n",
      "Requirement already satisfied: idna<4,>=2.5 in /Library/Frameworks/Python.framework/Versions/3.12/lib/python3.12/site-packages (from requests) (3.10)\n",
      "Requirement already satisfied: urllib3<3,>=1.21.1 in /Library/Frameworks/Python.framework/Versions/3.12/lib/python3.12/site-packages (from requests) (2.2.3)\n",
      "Requirement already satisfied: certifi>=2017.4.17 in /Library/Frameworks/Python.framework/Versions/3.12/lib/python3.12/site-packages (from requests) (2024.8.30)\n",
      "\n",
      "\u001b[1m[\u001b[0m\u001b[34;49mnotice\u001b[0m\u001b[1;39;49m]\u001b[0m\u001b[39;49m A new release of pip is available: \u001b[0m\u001b[31;49m24.0\u001b[0m\u001b[39;49m -> \u001b[0m\u001b[32;49m24.3.1\u001b[0m\n",
      "\u001b[1m[\u001b[0m\u001b[34;49mnotice\u001b[0m\u001b[1;39;49m]\u001b[0m\u001b[39;49m To update, run: \u001b[0m\u001b[32;49mpip3 install --upgrade pip\u001b[0m\n",
      "Note: you may need to restart the kernel to use updated packages.\n",
      "\n",
      "Заголовок: sunt aut facere repellat provident occaecati excepturi optio reprehenderit\n",
      "Содержание: quia et suscipit\n",
      "suscipit recusandae consequuntur expedita et cum\n",
      "reprehenderit molestiae ut ut quas totam\n",
      "nostrum rerum est autem sunt rem eveniet architecto\n",
      "--------------------------------------------------\n",
      "\n",
      "Заголовок: qui est esse\n",
      "Содержание: est rerum tempore vitae\n",
      "sequi sint nihil reprehenderit dolor beatae ea dolores neque\n",
      "fugiat blanditiis voluptate porro vel nihil molestiae ut reiciendis\n",
      "qui aperiam non debitis possimus qui neque nisi nulla\n",
      "--------------------------------------------------\n",
      "\n",
      "Заголовок: ea molestias quasi exercitationem repellat qui ipsa sit aut\n",
      "Содержание: et iusto sed quo iure\n",
      "voluptatem occaecati omnis eligendi aut ad\n",
      "voluptatem doloribus vel accusantium quis pariatur\n",
      "molestiae porro eius odio et labore et velit aut\n",
      "--------------------------------------------------\n",
      "\n",
      "Заголовок: eum et est occaecati\n",
      "Содержание: ullam et saepe reiciendis voluptatem adipisci\n",
      "sit amet autem assumenda provident rerum culpa\n",
      "quis hic commodi nesciunt rem tenetur doloremque ipsam iure\n",
      "quis sunt voluptatem rerum illo velit\n",
      "--------------------------------------------------\n",
      "\n",
      "Заголовок: nesciunt quas odio\n",
      "Содержание: repudiandae veniam quaerat sunt sed\n",
      "alias aut fugiat sit autem sed est\n",
      "voluptatem omnis possimus esse voluptatibus quis\n",
      "est aut tenetur dolor neque\n",
      "--------------------------------------------------\n"
     ]
    }
   ],
   "source": [
    "%pip install requests\n",
    "\n",
    "import requests\n",
    "\n",
    "def handle_response(response):\n",
    "    if response.status_code == 200 or response.status_code == 201:\n",
    "        return response.json()\n",
    "    elif response.status_code == 400:\n",
    "        print(\"Ошибка 400: Неверный запрос.\")\n",
    "    elif response.status_code == 404:\n",
    "        print(\"Ошибка 404: Ресурс не найден.\")\n",
    "    else:\n",
    "        print(f\"Ошибка: {response.status_code}\")\n",
    "    return None\n",
    "\n",
    "response = requests.get('https://jsonplaceholder.typicode.com/posts')\n",
    "\n",
    "posts = handle_response(response)\n",
    "\n",
    "if posts:\n",
    "    for post in posts[:5]:\n",
    "        print(f\"\\nЗаголовок: {post['title']}\")\n",
    "        print(f\"Содержание: {post['body']}\")\n",
    "        print(\"-\" * 50)\n",
    "else:\n",
    "    print(f\"Ошибка при получении данных: {response.status_code}\")\n"
   ]
  },
  {
   "cell_type": "code",
   "execution_count": 13,
   "metadata": {},
   "outputs": [
    {
     "name": "stdout",
     "output_type": "stream",
     "text": [
      "Текущая температура в городе Москва: -0.16°C\n",
      "Описание погоды: пасмурно\n",
      "--------------------------------------------------\n"
     ]
    }
   ],
   "source": [
    "def get_weather_data(city, api_key):\n",
    "    params = {\n",
    "        'q': city,\n",
    "        'appid': api_key,\n",
    "        'units': 'metric',\n",
    "        'lang': 'ru'\n",
    "    }\n",
    "    response = requests.get('https://api.openweathermap.org/data/2.5/weather', params=params)\n",
    "    return handle_response(response)\n",
    "\n",
    "def display_weather(data, city):\n",
    "    if data:\n",
    "        temp = data['main']['temp']\n",
    "        description = data['weather'][0]['description']\n",
    "        print(f\"Текущая температура в городе {city}: {temp}°C\")\n",
    "        print(f\"Описание погоды: {description}\")\n",
    "    print(\"-\" * 50)\n",
    "\n",
    "def task2():\n",
    "    city = input(\"Введите название города: \")\n",
    "    api_key = '97fb9953a1cb21e58f59ec1888cd0036'\n",
    "    data = get_weather_data(city, api_key)\n",
    "    display_weather(data, city)\n",
    "    \n",
    "task2()"
   ]
  },
  {
   "cell_type": "code",
   "execution_count": 21,
   "metadata": {},
   "outputs": [
    {
     "name": "stdout",
     "output_type": "stream",
     "text": [
      "ID созданного поста: 101\n",
      "Заголовок: Заголовок 1\n",
      "Содержание: Описание 2\n"
     ]
    }
   ],
   "source": [
    "import requests\n",
    "\n",
    "def create_post(title, body, user_id):\n",
    "    url = 'https://jsonplaceholder.typicode.com/posts'\n",
    "    post_data = {\n",
    "        'title': title,\n",
    "        'body': body,\n",
    "        'userId': user_id\n",
    "    }\n",
    "    response = requests.post(url, json=post_data)\n",
    "    post = handle_response(response)\n",
    "\n",
    "    print(f\"ID созданного поста: {post['id']}\")\n",
    "    print(f\"Заголовок: {post['title']}\")\n",
    "    print(f\"Содержание: {post['body']}\")\n",
    "\n",
    "def task3():\n",
    "    title = input(\"Введите заголовок поста: \")\n",
    "    body = input(\"Введите содержание поста: \")\n",
    "    user_id = input(\"Введите ID пользователя: \")\n",
    "    create_post(title, body, user_id)\n",
    "\n",
    "task3()"
   ]
  },
  {
   "cell_type": "code",
   "execution_count": null,
   "metadata": {},
   "outputs": [],
   "source": []
  }
 ],
 "metadata": {
  "kernelspec": {
   "display_name": "Python 3",
   "language": "python",
   "name": "python3"
  },
  "language_info": {
   "codemirror_mode": {
    "name": "ipython",
    "version": 3
   },
   "file_extension": ".py",
   "mimetype": "text/x-python",
   "name": "python",
   "nbconvert_exporter": "python",
   "pygments_lexer": "ipython3",
   "version": "3.12.4"
  }
 },
 "nbformat": 4,
 "nbformat_minor": 2
}
