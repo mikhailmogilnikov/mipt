{
 "cells": [
  {
   "cell_type": "markdown",
   "metadata": {},
   "source": [
    "Задание 1. Обработка деления на ноль\n",
    "\n",
    "Напишите программу, которая принимает два числа от пользователя и выводит результат их деления. Используйте обработку исключений, чтобы корректно обработать ситуацию, когда пользователь вводит 0 в качестве второго числа."
   ]
  },
  {
   "cell_type": "code",
   "execution_count": 14,
   "metadata": {},
   "outputs": [
    {
     "name": "stdout",
     "output_type": "stream",
     "text": [
      "На 0 делить нельзя\n"
     ]
    },
    {
     "data": {
      "text/plain": [
       "1.0"
      ]
     },
     "execution_count": 14,
     "metadata": {},
     "output_type": "execute_result"
    }
   ],
   "source": [
    "def divide(num1, num2):\n",
    "  try:\n",
    "    return num1 / num2  \n",
    "  except ZeroDivisionError:\n",
    "    print('На 0 делить нельзя')\n",
    "    \n",
    "divide(2, 0)\n",
    "divide(2, 2)"
   ]
  },
  {
   "cell_type": "markdown",
   "metadata": {},
   "source": [
    "Задание 2. Обработка некорректного ввода\n",
    "\n",
    "Расширьте предыдущую программу, чтобы она также обрабатывала ситуацию, когда пользователь вводит строку вместо числа. Используйте несколько блоков except для обработки разных типов исключений."
   ]
  },
  {
   "cell_type": "code",
   "execution_count": 13,
   "metadata": {},
   "outputs": [
    {
     "name": "stdout",
     "output_type": "stream",
     "text": [
      "На 0 делить нельзя\n",
      "Только числа\n"
     ]
    },
    {
     "data": {
      "text/plain": [
       "1.0"
      ]
     },
     "execution_count": 13,
     "metadata": {},
     "output_type": "execute_result"
    }
   ],
   "source": [
    "def divide(num1, num2):\n",
    "  try:\n",
    "    return num1 / num2  \n",
    "  except ZeroDivisionError:\n",
    "    print('На 0 делить нельзя')\n",
    "  except TypeError:\n",
    "    print('Только числа')\n",
    "    \n",
    "divide(2, 0)\n",
    "divide(2, 'hello')\n",
    "divide(2, 2)"
   ]
  },
  {
   "cell_type": "markdown",
   "metadata": {},
   "source": [
    "Задание 3. Создание собственных исключений\n",
    "\n",
    "Напишите программу, которая вычисляет сумму списка целых чисел. Создайте свои собственные классы исключений для обработки ситуаций, когда в списке есть хотя бы одно чётное или отрицательное число. Используйте оператор raise для генерации исключений."
   ]
  },
  {
   "cell_type": "code",
   "execution_count": 15,
   "metadata": {},
   "outputs": [
    {
     "name": "stdout",
     "output_type": "stream",
     "text": [
      "Только нечетные числа\n",
      "Только положительные числа\n"
     ]
    },
    {
     "data": {
      "text/plain": [
       "21"
      ]
     },
     "execution_count": 15,
     "metadata": {},
     "output_type": "execute_result"
    }
   ],
   "source": [
    "class ValueIsEvenError(Exception):\n",
    "  pass\n",
    "\n",
    "class ValueIsNegativeError(Exception):\n",
    "  pass\n",
    "  \n",
    "def sum_list(list):\n",
    "  result = 0\n",
    "  \n",
    "  try:\n",
    "    for num in list:\n",
    "      if num % 2 == 0: \n",
    "        raise ValueIsEvenError('Только нечетные числа')\n",
    "      if num < 0: \n",
    "        raise ValueIsNegativeError('Только положительные числа')\n",
    "      result += num\n",
    "    \n",
    "    return result\n",
    "      \n",
    "  except ValueIsEvenError as error: print(error)\n",
    "  except ValueIsNegativeError as error: print(error)\n",
    "\n",
    "with_even_nums = [1, 2, 5, 7, 5]\n",
    "with_negative_nums = [1, -3, -1, 7, 5]\n",
    "correct_nums = [1, 3, 5, 7, 5]\n",
    "\n",
    "sum_list(with_even_nums)\n",
    "sum_list(with_negative_nums)\n",
    "sum_list(correct_nums)\n"
   ]
  },
  {
   "cell_type": "markdown",
   "metadata": {},
   "source": [
    "Задание 4. Обработка ошибок индексации\n",
    "\n",
    "Напишите программу, которая принимает от пользователя индекс элемента списка и выводит значение этого элемента. Используйте обработку исключений для корректной обработки ситуаций, когда пользователь вводит индекс, выходящий за пределы списка."
   ]
  },
  {
   "cell_type": "code",
   "execution_count": 1,
   "metadata": {},
   "outputs": [
    {
     "name": "stdout",
     "output_type": "stream",
     "text": [
      "Индекс вне пределов списка\n"
     ]
    },
    {
     "data": {
      "text/plain": [
       "4"
      ]
     },
     "execution_count": 1,
     "metadata": {},
     "output_type": "execute_result"
    }
   ],
   "source": [
    "def get_element_by_id(values_list, id):  \n",
    "  try:\n",
    "    return values_list[id]\n",
    "  except IndexError:\n",
    "    print('Индекс вне пределов списка')\n",
    "    \n",
    "num_list = [1, 2, 3, 4]\n",
    "\n",
    "get_element_by_id(num_list, 6)\n",
    "get_element_by_id(num_list, 3) \n",
    "      "
   ]
  },
  {
   "cell_type": "markdown",
   "metadata": {},
   "source": [
    "Задание 5. Обработка ошибок преобразования типов\n",
    "\n",
    "Напишите программу, которая принимает от пользователя строку и преобразует её в число с плавающей точкой. Используйте обработку исключений для корректной обработки ситуаций, когда пользователь вводит строку, которую невозможно преобразовать в число."
   ]
  },
  {
   "cell_type": "code",
   "execution_count": 5,
   "metadata": {},
   "outputs": [
    {
     "name": "stdout",
     "output_type": "stream",
     "text": [
      "Функция ожидает строку ввиде числа\n"
     ]
    },
    {
     "data": {
      "text/plain": [
       "123.0"
      ]
     },
     "execution_count": 5,
     "metadata": {},
     "output_type": "execute_result"
    }
   ],
   "source": [
    "def convert_to_float(str):\n",
    "  try:\n",
    "    return float(str)\n",
    "  except ValueError:\n",
    "    print('Функция ожидает строку ввиде числа')\n",
    "  \n",
    "convert_to_float('hi')\n",
    "convert_to_float('123')"
   ]
  },
  {
   "cell_type": "markdown",
   "metadata": {},
   "source": [
    "Задание 6. Обработка ошибок импорта модулей\n",
    "\n",
    "Напишите программу, которая импортирует модуль math и использует функцию sqrt() для вычисления квадратного корня числа, введённого пользователем. Используйте обработку исключений для корректной обработки ситуаций, когда модуль math не может быть импортирован или функция sqrt() не может быть вызвана для отрицательного числа."
   ]
  },
  {
   "cell_type": "code",
   "execution_count": 8,
   "metadata": {},
   "outputs": [
    {
     "name": "stdout",
     "output_type": "stream",
     "text": [
      "3.4641016151377544\n"
     ]
    }
   ],
   "source": [
    "try:\n",
    "  import math\n",
    "except ImportError:\n",
    "  print(\"Не удалось импортировать модуль math\")\n",
    "else:\n",
    "  try:\n",
    "    num = float(input(\"Введите число для вычисления квадратного корня: \"))\n",
    "        \n",
    "    if num < 0:\n",
    "      raise ValueError(\"Только положительные числа\")\n",
    "\n",
    "    result = math.sqrt(num)\n",
    "    print(result)\n",
    "\n",
    "  except ValueError as e: print(e)"
   ]
  }
 ],
 "metadata": {
  "kernelspec": {
   "display_name": "Python 3",
   "language": "python",
   "name": "python3"
  },
  "language_info": {
   "codemirror_mode": {
    "name": "ipython",
    "version": 3
   },
   "file_extension": ".py",
   "mimetype": "text/x-python",
   "name": "python",
   "nbconvert_exporter": "python",
   "pygments_lexer": "ipython3",
   "version": "3.9.6"
  }
 },
 "nbformat": 4,
 "nbformat_minor": 2
}
