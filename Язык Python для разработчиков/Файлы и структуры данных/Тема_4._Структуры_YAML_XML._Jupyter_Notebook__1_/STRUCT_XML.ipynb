{
 "cells": [
  {
   "cell_type": "markdown",
   "id": "8cc92d0c-397e-48ee-bcd0-83848ba1075e",
   "metadata": {},
   "source": [
    "# XML Формат"
   ]
  },
  {
   "cell_type": "code",
   "execution_count": 18,
   "id": "db3b0af9-0e04-4d6d-9272-bf92fa38ce17",
   "metadata": {},
   "outputs": [],
   "source": [
    "XML_STR = \"\"\"\n",
    "<catalog>\n",
    "  <book ty=\"123\">\n",
    "    <id>bk101</id>\n",
    "    <author>Gambardella, Matthew</author>\n",
    "    <title>XML Developer's Guide</title>\n",
    "    <genre>Computer</genre>\n",
    "    <price>44.95</price>\n",
    "    <publish_date>2000-10-01</publish_date>\n",
    "    <description>An in-depth look at creating applications \n",
    "      with XML.</description>\n",
    "  </book>\n",
    "  <book aa=\"999\">\n",
    "    <id>bk102</id>\n",
    "    <author>Gambardella, Matthew</author>\n",
    "    <title>Maeve Ascendant</title>\n",
    "    <genre>Computer</genre>\n",
    "    <price>44.95</price>\n",
    "    <publish_date>2000-10-01</publish_date>\n",
    "    <description>An in-depth look at creating applications \n",
    "      with XML.</description>\n",
    "  </book>\n",
    "</catalog>\n",
    "\"\"\"\n"
   ]
  },
  {
   "cell_type": "code",
   "execution_count": 19,
   "id": "3582d78f-5e4f-4031-a62d-ce83e3d03dce",
   "metadata": {
    "tags": []
   },
   "outputs": [
    {
     "name": "stdout",
     "output_type": "stream",
     "text": [
      "book {'ty': '123'}\n",
      "id bk101\n",
      "book {'aa': '999'}\n",
      "id bk102\n"
     ]
    }
   ],
   "source": [
    "import lxml.html as LH\n",
    "\n",
    "root = LH.fromstring(XML_STR)\n",
    "\n",
    "# Пройти по элементам\n",
    "for child in root:\n",
    "    print(child.tag, child.attrib)\n",
    "    print(child[0].tag, child[0].text)"
   ]
  },
  {
   "cell_type": "code",
   "execution_count": 20,
   "id": "b9c12f4c-1263-4c1e-843a-3b88e16c24e5",
   "metadata": {},
   "outputs": [],
   "source": [
    "from lxml import etree\n",
    "xml_string = etree.tostring(root)"
   ]
  },
  {
   "cell_type": "code",
   "execution_count": 21,
   "id": "aea95159-2643-4db2-8f97-26aa1a10de5b",
   "metadata": {
    "tags": []
   },
   "outputs": [
    {
     "name": "stdout",
     "output_type": "stream",
     "text": [
      "(b'<catalog>\\n  <book ty=\"123\">\\n    <id>bk101</id>\\n    <author>Gambardella, '\n",
      " b\"Matthew</author>\\n    <title>XML Developer's Guide</title>\\n    <genre>Com\"\n",
      " b'puter</genre>\\n    <price>44.95</price>\\n    <publish_date>2000-10-01</pub'\n",
      " b'lish_date>\\n    <description>An in-depth look at creating applications \\n '\n",
      " b'     with XML.</description>\\n  </book>\\n  <book aa=\"999\">\\n    <id>bk102</'\n",
      " b'id>\\n    <author>Gambardella, Matthew</author>\\n    <title>Maeve Ascendant'\n",
      " b'</title>\\n    <genre>Computer</genre>\\n    <price>44.95</price>\\n    <publi'\n",
      " b'sh_date>2000-10-01</publish_date>\\n    <description>An in-depth look at c'\n",
      " b'reating applications \\n      with XML.</description>\\n  </book>\\n</catalog>'\n",
      " b'\\n')\n"
     ]
    }
   ],
   "source": [
    "import pprint\n",
    "pprint.pprint(xml_string)"
   ]
  },
  {
   "cell_type": "code",
   "execution_count": null,
   "id": "fa1eb62a-7771-42c5-9c6c-4d56e182fd97",
   "metadata": {},
   "outputs": [],
   "source": []
  }
 ],
 "metadata": {
  "kernelspec": {
   "display_name": "Python 3",
   "language": "python",
   "name": "python3"
  },
  "language_info": {
   "codemirror_mode": {
    "name": "ipython",
    "version": 3
   },
   "file_extension": ".py",
   "mimetype": "text/x-python",
   "name": "python",
   "nbconvert_exporter": "python",
   "pygments_lexer": "ipython3",
   "version": "3.7.2"
  }
 },
 "nbformat": 4,
 "nbformat_minor": 5
}
