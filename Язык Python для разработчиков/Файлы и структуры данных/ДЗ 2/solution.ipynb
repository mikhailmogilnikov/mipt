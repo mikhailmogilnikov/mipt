{
 "cells": [
  {
   "cell_type": "markdown",
   "metadata": {},
   "source": [
    "Задание 1. Копирование содержимого одного файла в другой\n",
    "\n",
    "Создайте программу, которая копирует содержимое файла source.txt в новый файл destination.txt."
   ]
  },
  {
   "cell_type": "code",
   "execution_count": 6,
   "metadata": {},
   "outputs": [
    {
     "name": "stdout",
     "output_type": "stream",
     "text": [
      "✅ Копирование успешно завершено\n"
     ]
    }
   ],
   "source": [
    "try:\n",
    "  with open('./materials/source.txt', 'r') as source:\n",
    "    with open('./results/destination.txt', 'w') as destination:\n",
    "      for line in source:\n",
    "        destination.write(line)\n",
    "      print('✅ Копирование успешно завершено')\n",
    "except FileNotFoundError:\n",
    "  print(\"Ошибка: Файл не найден.\")\n",
    "except Exception as e:\n",
    "    print(f\"Ошибка: {e}\")"
   ]
  },
  {
   "cell_type": "markdown",
   "metadata": {},
   "source": [
    "Задание 2. Подсчёт стоимости заказа из файла\n",
    "\n",
    "Напишите программу, которая считывает файл prices.txt, содержащий информацию о товарах: название, количество и цену, и подсчитывает общую стоимость заказа."
   ]
  },
  {
   "cell_type": "code",
   "execution_count": 8,
   "metadata": {},
   "outputs": [
    {
     "data": {
      "text/plain": [
       "650"
      ]
     },
     "execution_count": 8,
     "metadata": {},
     "output_type": "execute_result"
    }
   ],
   "source": [
    "try:\n",
    "  with open('./materials/prices.txt', 'r') as recipe:\n",
    "    result = 0\n",
    "    for line in recipe:\n",
    "      _, count, price = line.strip().split('\\t')\n",
    "      result += int(price) * int(count)\n",
    "except FileNotFoundError:\n",
    "  print(\"Ошибка: Файл не найден.\")\n",
    "except Exception as e:\n",
    "    print(f\"Ошибка: {e}\")\n",
    "    \n",
    "result"
   ]
  },
  {
   "cell_type": "markdown",
   "metadata": {},
   "source": [
    "Задание 3. Подсчёт количества слов в файле\n",
    "\n",
    "Напишите программу, которая подсчитывает количество слов в текстовом файле text_file.txt и выводит результат на экран.\n",
    "\n"
   ]
  },
  {
   "cell_type": "code",
   "execution_count": 12,
   "metadata": {},
   "outputs": [
    {
     "data": {
      "text/plain": [
       "19"
      ]
     },
     "execution_count": 12,
     "metadata": {},
     "output_type": "execute_result"
    }
   ],
   "source": [
    "try:\n",
    "  with open('./materials/text_file.txt', 'r') as text:\n",
    "    result = 0\n",
    "    for line in text:\n",
    "      words = line.replace('—', '').replace('.', '').strip().split()\n",
    "      result += len(words)\n",
    "except FileNotFoundError:\n",
    "  print(\"Ошибка: Файл не найден.\")\n",
    "except Exception as e:\n",
    "    print(f\"Ошибка: {e}\")\n",
    "\n",
    "result"
   ]
  },
  {
   "cell_type": "markdown",
   "metadata": {},
   "source": [
    "Задание 4. Копирование уникального содержимого одного файла в другой\n",
    "\n",
    "Создайте программу, которая считывает строки из файла input.txt, сохраняет только уникальные строки и записывает их в новый файл unique_output.txt."
   ]
  },
  {
   "cell_type": "code",
   "execution_count": 1,
   "metadata": {},
   "outputs": [
    {
     "name": "stdout",
     "output_type": "stream",
     "text": [
      "✅ Запись завершена\n"
     ]
    }
   ],
   "source": [
    "unique_rows = []\n",
    "\n",
    "try:\n",
    "  with open('./materials/input.txt', 'r') as read_file:\n",
    "    for line in read_file:\n",
    "      if line not in unique_rows:\n",
    "        unique_rows.append(line)\n",
    "  with open('./results/unique_output.txt', 'w') as destination:\n",
    "      destination.writelines(unique_rows)\n",
    "      print('✅ Запись завершена')\n",
    "except FileNotFoundError:\n",
    "  print(\"Ошибка: Файл не найден.\")\n",
    "except Exception as e:\n",
    "    print(f\"Ошибка: {e}\")"
   ]
  }
 ],
 "metadata": {
  "kernelspec": {
   "display_name": "Python 3",
   "language": "python",
   "name": "python3"
  },
  "language_info": {
   "codemirror_mode": {
    "name": "ipython",
    "version": 3
   },
   "file_extension": ".py",
   "mimetype": "text/x-python",
   "name": "python",
   "nbconvert_exporter": "python",
   "pygments_lexer": "ipython3",
   "version": "3.9.6"
  }
 },
 "nbformat": 4,
 "nbformat_minor": 2
}
