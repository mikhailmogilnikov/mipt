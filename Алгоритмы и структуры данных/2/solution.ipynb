{
 "cells": [
  {
   "cell_type": "markdown",
   "metadata": {},
   "source": [
    "Напишите программу сложения четырёх чисел, которые вводятся с клавиатуры.\n",
    "Запустите программу для двух или более наборов данных.\n",
    "Проверьте работоспособность вашей программы.\n",
    "Сделайте скриншот вашего кода и прикрепите в личном кабинете."
   ]
  },
  {
   "cell_type": "code",
   "execution_count": 5,
   "metadata": {},
   "outputs": [
    {
     "data": {
      "text/plain": [
       "(10, 26)"
      ]
     },
     "execution_count": 5,
     "metadata": {},
     "output_type": "execute_result"
    }
   ],
   "source": [
    "def sum_nums(count = 4):\n",
    "  result = 0\n",
    "  for _ in range(count):\n",
    "    number = int(input('Введите число'))\n",
    "    result += number\n",
    "  return result\n",
    "\n",
    "sum_nums(), sum_nums()"
   ]
  }
 ],
 "metadata": {
  "kernelspec": {
   "display_name": "Python 3",
   "language": "python",
   "name": "python3"
  },
  "language_info": {
   "codemirror_mode": {
    "name": "ipython",
    "version": 3
   },
   "file_extension": ".py",
   "mimetype": "text/x-python",
   "name": "python",
   "nbconvert_exporter": "python",
   "pygments_lexer": "ipython3",
   "version": "3.12.4"
  }
 },
 "nbformat": 4,
 "nbformat_minor": 2
}
