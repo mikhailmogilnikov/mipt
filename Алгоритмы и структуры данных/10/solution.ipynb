{
 "cells": [
  {
   "cell_type": "code",
   "execution_count": 2,
   "metadata": {},
   "outputs": [
    {
     "name": "stdout",
     "output_type": "stream",
     "text": [
      "Введите значения X через пробел:\n",
      "Введите соответствующие вероятности P через пробел (сумма должна быть равна 1):\n",
      "\n",
      "Результаты:\n",
      "Математическое ожидание M[X] = 0.9\n",
      "Дисперсия D[X] = 1.29\n"
     ]
    }
   ],
   "source": [
    "def calculate_mean(x_values, probabilities):\n",
    "    return sum(x * p for x, p in zip(x_values, probabilities))\n",
    "\n",
    "def calculate_variance(x_values, probabilities, mean):\n",
    "    return sum(p * (x - mean) ** 2 for x, p in zip(x_values, probabilities))\n",
    "\n",
    "def input_data():\n",
    "    print(\"Введите значения X через пробел:\")\n",
    "    x_values = list(map(float, input().split()))\n",
    "\n",
    "    print(\"Введите соответствующие вероятности P через пробел (сумма должна быть равна 1):\")\n",
    "    probabilities = list(map(float, input().split()))\n",
    "\n",
    "    if len(x_values) != len(probabilities):\n",
    "        raise ValueError(\"Количество значений X и вероятностей P должно совпадать.\")\n",
    "    if abs(sum(probabilities) - 1) > 1e-6:\n",
    "        raise ValueError(\"Сумма вероятностей P должна быть равна 1.\")\n",
    "    \n",
    "    return x_values, probabilities\n",
    "\n",
    "try:\n",
    "    x_values, probabilities = input_data()\n",
    "    mean = calculate_mean(x_values, probabilities)\n",
    "    variance = calculate_variance(x_values, probabilities, mean)\n",
    "    \n",
    "    print(f\"\\nРезультаты:\")\n",
    "    print(f\"Математическое ожидание M[X] = {mean}\")\n",
    "    print(f\"Дисперсия D[X] = {variance}\")\n",
    "except ValueError as e:\n",
    "    print(f\"Ошибка ввода данных: {e}\")\n"
   ]
  }
 ],
 "metadata": {
  "kernelspec": {
   "display_name": "Python 3",
   "language": "python",
   "name": "python3"
  },
  "language_info": {
   "codemirror_mode": {
    "name": "ipython",
    "version": 3
   },
   "file_extension": ".py",
   "mimetype": "text/x-python",
   "name": "python",
   "nbconvert_exporter": "python",
   "pygments_lexer": "ipython3",
   "version": "3.12.4"
  }
 },
 "nbformat": 4,
 "nbformat_minor": 2
}
