{
 "cells": [
  {
   "cell_type": "markdown",
   "metadata": {},
   "source": [
    "# Задание 1\n",
    "\n",
    "Написать код на Python в среде Jupyter Notebook для решения следующей задачи.\n",
    "\n",
    "Дана переменная, в которой хранится слово из латинских букв. Напишите код, который выводит на экран:\n",
    "\n",
    "- среднюю букву, если число букв в слове нечётное;\n",
    "- две средних буквы, если число букв чётное.\n",
    "\n",
    "``` python\n",
    "Пример работы программы:\n",
    "\n",
    "1. word = 'test' Результат: es \n",
    "2. word = 'testing' Результат: t\n",
    "```"
   ]
  },
  {
   "cell_type": "code",
   "execution_count": 38,
   "metadata": {},
   "outputs": [],
   "source": [
    "def sol1(word):\n",
    "  word_len = len(word)\n",
    "  middle_index = int(word_len / 2)\n",
    "  \n",
    "  if (word_len % 2 == 0):\n",
    "    print(word[middle_index - 1:middle_index + 1])\n",
    "  else:\n",
    "    print(word[middle_index:middle_index + 1])"
   ]
  },
  {
   "cell_type": "code",
   "execution_count": 39,
   "metadata": {},
   "outputs": [
    {
     "name": "stdout",
     "output_type": "stream",
     "text": [
      "es\n"
     ]
    }
   ],
   "source": [
    "sol1('test')"
   ]
  },
  {
   "cell_type": "code",
   "execution_count": 40,
   "metadata": {},
   "outputs": [
    {
     "name": "stdout",
     "output_type": "stream",
     "text": [
      "t\n"
     ]
    }
   ],
   "source": [
    "sol1('testing')"
   ]
  },
  {
   "cell_type": "markdown",
   "metadata": {},
   "source": [
    "# Задание 2\n",
    "\n",
    "Написать код на Python в среде Jupyter Notebook для решения следующей задачи.\n",
    "\n",
    "Вы делаете MVP (минимально жизнеспособный продукт) dating-сервиса.\n",
    "У вас есть список юношей и девушек.\n",
    "Выдвигаем гипотезу: лучшие рекомендации получатся, если просто отсортировать имена по алфавиту и познакомить людей с одинаковыми индексами после сортировки. Но вы не будете никого знакомить, если кто-то может остаться без пары.\n",
    "\n",
    "``` python\n",
    "Примеры работы программы:\n",
    "\n",
    "boys = ['Peter', 'Alex', 'John', 'Arthur', 'Richard'] \n",
    "girls = ['Kate', 'Liza', 'Kira', 'Emma', 'Trisha'] \n",
    "\n",
    "Результат:\n",
    "Идеальные пары:\n",
    "Alex и Emma\n",
    "Arthur и Kate\n",
    "John и Kira\n",
    "Peter и Liza\n",
    "Richard и Trisha\n",
    "\n",
    "boys = ['Peter', 'Alex', 'John', 'Arthur', 'Richard', 'Michael'] \n",
    "girls = ['Kate', 'Liza', 'Kira', 'Emma', 'Trisha'] \n",
    "```"
   ]
  },
  {
   "cell_type": "code",
   "execution_count": 56,
   "metadata": {},
   "outputs": [],
   "source": [
    "def sol2(boys, girls):\n",
    "  if (len(boys) != len(girls)):\n",
    "    print('Внимание, кто-то может остаться без пары!')\n",
    "    return\n",
    "  sorted_boys = sorted(boys)\n",
    "  sorted_girls = sorted(girls)\n",
    "  \n",
    "  zip_pairs = zip(sorted_boys, sorted_girls)\n",
    "  \n",
    "  print('Идеальные пары')\n",
    "  \n",
    "  for pair in zip_pairs:\n",
    "    print(f'{pair[0]} и {pair[1]}')\n",
    "  "
   ]
  },
  {
   "cell_type": "code",
   "execution_count": 57,
   "metadata": {},
   "outputs": [
    {
     "name": "stdout",
     "output_type": "stream",
     "text": [
      "Идеальные пары\n",
      "Alex и Emma\n",
      "Arthur и Kate\n",
      "John и Kira\n",
      "Peter и Liza\n",
      "Richard и Trisha\n"
     ]
    }
   ],
   "source": [
    "boys = ['Peter', 'Alex', 'John', 'Arthur', 'Richard'] \n",
    "girls = ['Kate', 'Liza', 'Kira', 'Emma', 'Trisha'] \n",
    "\n",
    "sol2(boys=boys, girls=girls)"
   ]
  },
  {
   "cell_type": "code",
   "execution_count": 58,
   "metadata": {},
   "outputs": [
    {
     "name": "stdout",
     "output_type": "stream",
     "text": [
      "Внимание, кто-то может остаться без пары!\n"
     ]
    }
   ],
   "source": [
    "boys1 = ['Peter', 'Alex', 'John', 'Arthur', 'Richard', 'Michael'] \n",
    "girls1 = ['Kate', 'Liza', 'Kira', 'Emma', 'Trisha']\n",
    "\n",
    "sol2(boys=boys1, girls=girls1)"
   ]
  },
  {
   "cell_type": "code",
   "execution_count": null,
   "metadata": {},
   "outputs": [],
   "source": []
  }
 ],
 "metadata": {
  "kernelspec": {
   "display_name": "Python 3",
   "language": "python",
   "name": "python3"
  },
  "language_info": {
   "codemirror_mode": {
    "name": "ipython",
    "version": 3
   },
   "file_extension": ".py",
   "mimetype": "text/x-python",
   "name": "python",
   "nbconvert_exporter": "python",
   "pygments_lexer": "ipython3",
   "version": "3.9.6"
  }
 },
 "nbformat": 4,
 "nbformat_minor": 2
}
