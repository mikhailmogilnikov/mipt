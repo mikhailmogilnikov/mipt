{
 "cells": [
  {
   "cell_type": "markdown",
   "id": "dc85ef2d",
   "metadata": {},
   "source": [
    "### IN"
   ]
  },
  {
   "cell_type": "code",
   "execution_count": null,
   "id": "7a89daca-4d9b-401a-a5bb-cc3760e24ef7",
   "metadata": {},
   "outputs": [
    {
     "name": "stdout",
     "output_type": "stream",
     "text": [
      "ff\n"
     ]
    }
   ],
   "source": [
    "test = '1000'\n",
    "\n",
    "if '1' in test:\n",
    "  print('ff')"
   ]
  },
  {
   "cell_type": "code",
   "execution_count": 16,
   "id": "7f17fb7b",
   "metadata": {},
   "outputs": [
    {
     "name": "stdout",
     "output_type": "stream",
     "text": [
      "Hello, user! Your balance is a 1001\n",
      "hl\n",
      "e\n"
     ]
    }
   ],
   "source": [
    "word = 'hello'\n",
    "number = 1000\n",
    "\n",
    "print(f'{word.capitalize()}, user! Your balance is a {number + 1}')\n",
    "print(word[:3:2])\n",
    "print(word[1:2])"
   ]
  },
  {
   "cell_type": "markdown",
   "id": "8359ed20",
   "metadata": {},
   "source": [
    "### Деструктуризация"
   ]
  },
  {
   "cell_type": "code",
   "execution_count": 4,
   "id": "912b03f9",
   "metadata": {},
   "outputs": [
    {
     "name": "stdout",
     "output_type": "stream",
     "text": [
      "1\n"
     ]
    },
    {
     "data": {
      "text/plain": [
       "1"
      ]
     },
     "execution_count": 4,
     "metadata": {},
     "output_type": "execute_result"
    }
   ],
   "source": [
    "first, second, third = [1, 2, 3]\n",
    "print(first)\n",
    "\n",
    "f, *_ = [1, 2, 3]\n",
    "f"
   ]
  },
  {
   "cell_type": "code",
   "execution_count": 2,
   "id": "64dd2e68",
   "metadata": {},
   "outputs": [
    {
     "data": {
      "text/plain": [
       "[6]"
      ]
     },
     "execution_count": 2,
     "metadata": {},
     "output_type": "execute_result"
    }
   ],
   "source": [
    "fi, *other, last = [5,6,7]\n",
    "other"
   ]
  },
  {
   "cell_type": "markdown",
   "id": "68a4c075",
   "metadata": {},
   "source": [
    "### Конкатенация списков"
   ]
  },
  {
   "cell_type": "code",
   "execution_count": 5,
   "id": "6771812d",
   "metadata": {},
   "outputs": [
    {
     "data": {
      "text/plain": [
       "[[1, 2], [2, 3], [3, 4], [4, 5]]"
      ]
     },
     "execution_count": 5,
     "metadata": {},
     "output_type": "execute_result"
    }
   ],
   "source": [
    "arr1 = [[1,2], [2,3]]\n",
    "arr2 = [[3,4], [4,5]]\n",
    "\n",
    "arr1 + arr2"
   ]
  },
  {
   "cell_type": "markdown",
   "id": "819fb7f6",
   "metadata": {},
   "source": [
    "### Операции со списками"
   ]
  },
  {
   "cell_type": "code",
   "execution_count": 3,
   "id": "a9ee019f",
   "metadata": {},
   "outputs": [],
   "source": [
    "months = [\n",
    "  ['Jan', 12000],\n",
    "  ['Feb', 13000],\n",
    "  ['Mar', 14000],\n",
    "  ['Apr', 15000],\n",
    "  ['Jun', 16000],\n",
    "  ['Jul', 17000],\n",
    "  ['Aug', 18000],\n",
    "]"
   ]
  },
  {
   "cell_type": "code",
   "execution_count": 4,
   "id": "15667874",
   "metadata": {},
   "outputs": [
    {
     "data": {
      "text/plain": [
       "[['Feb', 13000],\n",
       " ['Mar', 14000],\n",
       " ['Apr', 15000],\n",
       " ['Jun', 16000],\n",
       " ['Jul', 17000],\n",
       " ['Aug', 18000]]"
      ]
     },
     "execution_count": 4,
     "metadata": {},
     "output_type": "execute_result"
    }
   ],
   "source": [
    "del months[0]\n",
    "months"
   ]
  },
  {
   "cell_type": "code",
   "execution_count": 7,
   "id": "d9d469f1",
   "metadata": {},
   "outputs": [
    {
     "data": {
      "text/plain": [
       "[['Mar', 14000],\n",
       " ['Apr', 15000],\n",
       " ['Jun', 16000],\n",
       " ['Jul', 17000],\n",
       " ['Aug', 18000]]"
      ]
     },
     "execution_count": 7,
     "metadata": {},
     "output_type": "execute_result"
    }
   ],
   "source": [
    "months.remove(['Feb', 13000])\n",
    "months"
   ]
  },
  {
   "cell_type": "code",
   "execution_count": 14,
   "id": "367854d1",
   "metadata": {},
   "outputs": [
    {
     "data": {
      "text/plain": [
       "[['Mar', 14000],\n",
       " ['Apr', 15000],\n",
       " ['Jun', 16000],\n",
       " ['Jul', 17000],\n",
       " ['Aug', 18000],\n",
       " ['Sep', 19000]]"
      ]
     },
     "execution_count": 14,
     "metadata": {},
     "output_type": "execute_result"
    }
   ],
   "source": [
    "months.append(['Sep', 19000])\n",
    "months"
   ]
  },
  {
   "cell_type": "code",
   "execution_count": 16,
   "id": "03089061",
   "metadata": {},
   "outputs": [
    {
     "data": {
      "text/plain": [
       "[['Mar', 14000],\n",
       " ['Apr', 15000],\n",
       " ['Fake', 0],\n",
       " ['Fake', 0],\n",
       " ['Jun', 16000],\n",
       " ['Jul', 17000],\n",
       " ['Aug', 18000],\n",
       " ['Sep', 19000]]"
      ]
     },
     "execution_count": 16,
     "metadata": {},
     "output_type": "execute_result"
    }
   ],
   "source": [
    "months.insert(2, ['Fake', 0])\n",
    "months"
   ]
  },
  {
   "cell_type": "code",
   "execution_count": 18,
   "id": "11eb5786",
   "metadata": {},
   "outputs": [
    {
     "data": {
      "text/plain": [
       "2"
      ]
     },
     "execution_count": 18,
     "metadata": {},
     "output_type": "execute_result"
    }
   ],
   "source": [
    "months.count(['Fake', 0])"
   ]
  },
  {
   "cell_type": "code",
   "execution_count": 19,
   "id": "a3dec239",
   "metadata": {},
   "outputs": [
    {
     "data": {
      "text/plain": [
       "2"
      ]
     },
     "execution_count": 19,
     "metadata": {},
     "output_type": "execute_result"
    }
   ],
   "source": [
    "months.index(['Fake', 0])"
   ]
  },
  {
   "cell_type": "code",
   "execution_count": 23,
   "id": "ff4c2f38",
   "metadata": {},
   "outputs": [
    {
     "data": {
      "text/plain": [
       "[['Mar', 14000],\n",
       " ['Apr', 15000],\n",
       " ['Fake', 0],\n",
       " ['Fake', 0],\n",
       " ['Jun', 16000],\n",
       " ['Jul', 17000],\n",
       " ['Aug', 18000],\n",
       " ['Sep', 19000]]"
      ]
     },
     "execution_count": 23,
     "metadata": {},
     "output_type": "execute_result"
    }
   ],
   "source": [
    "months.reverse()\n",
    "months"
   ]
  },
  {
   "cell_type": "code",
   "execution_count": 26,
   "id": "a7c8e23c",
   "metadata": {},
   "outputs": [
    {
     "data": {
      "text/plain": [
       "8"
      ]
     },
     "execution_count": 26,
     "metadata": {},
     "output_type": "execute_result"
    }
   ],
   "source": [
    "len(months)"
   ]
  },
  {
   "cell_type": "code",
   "execution_count": 28,
   "id": "9d4e0581",
   "metadata": {},
   "outputs": [
    {
     "data": {
      "text/plain": [
       "60"
      ]
     },
     "execution_count": 28,
     "metadata": {},
     "output_type": "execute_result"
    }
   ],
   "source": [
    "nums = [10, 20, 30]\n",
    "sum(nums)"
   ]
  },
  {
   "cell_type": "code",
   "execution_count": 29,
   "id": "f8afb310",
   "metadata": {},
   "outputs": [
    {
     "data": {
      "text/plain": [
       "30"
      ]
     },
     "execution_count": 29,
     "metadata": {},
     "output_type": "execute_result"
    }
   ],
   "source": [
    "max(nums)"
   ]
  },
  {
   "cell_type": "code",
   "execution_count": 30,
   "id": "2e48f13a",
   "metadata": {},
   "outputs": [
    {
     "data": {
      "text/plain": [
       "10"
      ]
     },
     "execution_count": 30,
     "metadata": {},
     "output_type": "execute_result"
    }
   ],
   "source": [
    "min(nums)"
   ]
  },
  {
   "cell_type": "code",
   "execution_count": 31,
   "id": "f3579d98",
   "metadata": {},
   "outputs": [
    {
     "data": {
      "text/plain": [
       "[['Apr', 15000],\n",
       " ['Aug', 18000],\n",
       " ['Fake', 0],\n",
       " ['Fake', 0],\n",
       " ['Jul', 17000],\n",
       " ['Jun', 16000],\n",
       " ['Mar', 14000],\n",
       " ['Sep', 19000]]"
      ]
     },
     "execution_count": 31,
     "metadata": {},
     "output_type": "execute_result"
    }
   ],
   "source": [
    "sorted(months)"
   ]
  },
  {
   "cell_type": "code",
   "execution_count": 32,
   "id": "1090ebe4",
   "metadata": {},
   "outputs": [
    {
     "data": {
      "text/plain": [
       "[['Sep', 19000],\n",
       " ['Mar', 14000],\n",
       " ['Jun', 16000],\n",
       " ['Jul', 17000],\n",
       " ['Fake', 0],\n",
       " ['Fake', 0],\n",
       " ['Aug', 18000],\n",
       " ['Apr', 15000]]"
      ]
     },
     "execution_count": 32,
     "metadata": {},
     "output_type": "execute_result"
    }
   ],
   "source": [
    "sorted(months, reverse=True)"
   ]
  },
  {
   "cell_type": "markdown",
   "id": "628a7e66",
   "metadata": {},
   "source": [
    "### Переменные списков - ссылки"
   ]
  },
  {
   "cell_type": "code",
   "execution_count": 33,
   "id": "6a597c9c",
   "metadata": {},
   "outputs": [
    {
     "name": "stdout",
     "output_type": "stream",
     "text": [
      "True\n"
     ]
    }
   ],
   "source": [
    "arr3 = [1, 2, 3]\n",
    "arr4 = arr3\n",
    "\n",
    "print(id(arr3) == id(arr4))"
   ]
  },
  {
   "cell_type": "code",
   "execution_count": 34,
   "id": "3aa9e747",
   "metadata": {},
   "outputs": [
    {
     "name": "stdout",
     "output_type": "stream",
     "text": [
      "False\n"
     ]
    }
   ],
   "source": [
    "import copy\n",
    "\n",
    "arr5 = copy.copy(arr3)\n",
    "print(id(arr3) == id(arr5))"
   ]
  },
  {
   "cell_type": "markdown",
   "id": "532fcff1",
   "metadata": {},
   "source": [
    "### Tuple (Кортежи)"
   ]
  },
  {
   "cell_type": "code",
   "execution_count": 36,
   "id": "e8b117c9",
   "metadata": {},
   "outputs": [
    {
     "data": {
      "text/plain": [
       "300"
      ]
     },
     "execution_count": 36,
     "metadata": {},
     "output_type": "execute_result"
    }
   ],
   "source": [
    "# Неизменяемые списки\n",
    "# Нельзя добавить или удалить элементы из уже созданного кортежа\n",
    "# Занимают меньше памяти чем списки\n",
    "\n",
    "salary_tuple = (100, 200, 300)\n",
    "salary_tuple[2]"
   ]
  },
  {
   "cell_type": "code",
   "execution_count": 37,
   "id": "5f2a8e8b",
   "metadata": {},
   "outputs": [
    {
     "data": {
      "text/plain": [
       "tuple"
      ]
     },
     "execution_count": 37,
     "metadata": {},
     "output_type": "execute_result"
    }
   ],
   "source": [
    "type(salary_tuple)"
   ]
  },
  {
   "cell_type": "code",
   "execution_count": 38,
   "id": "6492e559",
   "metadata": {},
   "outputs": [
    {
     "data": {
      "text/plain": [
       "list"
      ]
     },
     "execution_count": 38,
     "metadata": {},
     "output_type": "execute_result"
    }
   ],
   "source": [
    "type(list(salary_tuple))"
   ]
  },
  {
   "cell_type": "code",
   "execution_count": 59,
   "id": "d9f705bf",
   "metadata": {},
   "outputs": [
    {
     "data": {
      "text/plain": [
       "tuple"
      ]
     },
     "execution_count": 59,
     "metadata": {},
     "output_type": "execute_result"
    }
   ],
   "source": [
    "# кортеж из 1 элемента задается так\n",
    "t = ('one',)\n",
    "type(t)"
   ]
  },
  {
   "cell_type": "code",
   "execution_count": 60,
   "id": "beb93269",
   "metadata": {},
   "outputs": [
    {
     "data": {
      "text/plain": [
       "str"
      ]
     },
     "execution_count": 60,
     "metadata": {},
     "output_type": "execute_result"
    }
   ],
   "source": [
    "# без запятой получится так\n",
    "type(('one'))"
   ]
  },
  {
   "cell_type": "markdown",
   "id": "ec52ac0c",
   "metadata": {},
   "source": [
    "#### Функция zip"
   ]
  },
  {
   "cell_type": "code",
   "execution_count": 57,
   "id": "64a5144f",
   "metadata": {},
   "outputs": [
    {
     "data": {
      "text/plain": [
       "<zip at 0x107502940>"
      ]
     },
     "execution_count": 57,
     "metadata": {},
     "output_type": "execute_result"
    }
   ],
   "source": [
    "arr1 = [1, 2, 3,]\n",
    "arr2 = [4, 5, 6, 7]\n",
    "\n",
    "zip1 = zip(arr1, arr2)\n",
    "zip1"
   ]
  },
  {
   "cell_type": "code",
   "execution_count": 58,
   "id": "b6c4af4d",
   "metadata": {},
   "outputs": [
    {
     "data": {
      "text/plain": [
       "[(1, 4), (2, 5), (3, 6)]"
      ]
     },
     "execution_count": 58,
     "metadata": {},
     "output_type": "execute_result"
    }
   ],
   "source": [
    "list(zip1)"
   ]
  },
  {
   "cell_type": "code",
   "execution_count": 61,
   "id": "5bf2c889",
   "metadata": {},
   "outputs": [],
   "source": [
    "arr3 = [10, 11, 12]\n",
    "\n",
    "zip2 = zip(arr1, arr2, arr3)"
   ]
  },
  {
   "cell_type": "code",
   "execution_count": 62,
   "id": "3b0ecda2",
   "metadata": {},
   "outputs": [
    {
     "data": {
      "text/plain": [
       "[(1, 4, 10), (2, 5, 11), (3, 6, 12)]"
      ]
     },
     "execution_count": 62,
     "metadata": {},
     "output_type": "execute_result"
    }
   ],
   "source": [
    "list(zip2)"
   ]
  },
  {
   "cell_type": "markdown",
   "id": "3394ba3f",
   "metadata": {},
   "source": [
    "### Цикл for"
   ]
  },
  {
   "cell_type": "code",
   "execution_count": 74,
   "id": "bdc95da0",
   "metadata": {},
   "outputs": [
    {
     "name": "stdout",
     "output_type": "stream",
     "text": [
      "h\n",
      "e\n",
      "l\n",
      "l\n",
      "o\n"
     ]
    }
   ],
   "source": [
    "# итерация по строке\n",
    "str = 'hello'\n",
    "\n",
    "for i in str:\n",
    "  print(i)"
   ]
  },
  {
   "cell_type": "code",
   "execution_count": 66,
   "id": "11b9fcd3",
   "metadata": {},
   "outputs": [
    {
     "name": "stdout",
     "output_type": "stream",
     "text": [
      "1\n",
      "2\n",
      "3\n"
     ]
    }
   ],
   "source": [
    "# итерация по списку\n",
    "list = [1, 2, 3]\n",
    "\n",
    "for i in list:\n",
    "  print(i)"
   ]
  },
  {
   "cell_type": "markdown",
   "id": "46f4aa8b",
   "metadata": {},
   "source": [
    "### Цикл while"
   ]
  },
  {
   "cell_type": "code",
   "execution_count": 69,
   "id": "d0b4430e",
   "metadata": {},
   "outputs": [
    {
     "name": "stdout",
     "output_type": "stream",
     "text": [
      "1\n",
      "2\n",
      "3\n",
      "4\n"
     ]
    }
   ],
   "source": [
    "x = 1\n",
    " \n",
    "while x < 5:\n",
    "  print(x)\n",
    "  x+=1\n"
   ]
  },
  {
   "cell_type": "markdown",
   "id": "8f9cb04e",
   "metadata": {},
   "source": [
    "##### break"
   ]
  },
  {
   "cell_type": "code",
   "execution_count": 71,
   "id": "849a4e84",
   "metadata": {},
   "outputs": [
    {
     "name": "stdout",
     "output_type": "stream",
     "text": [
      "6\n",
      "7\n"
     ]
    }
   ],
   "source": [
    "while x < 10:\n",
    "  x+=1\n",
    "  print(x)\n",
    "  if x == 7:\n",
    "    break"
   ]
  },
  {
   "cell_type": "markdown",
   "id": "f3e57b27",
   "metadata": {},
   "source": [
    "##### continue"
   ]
  },
  {
   "cell_type": "code",
   "execution_count": 72,
   "id": "f5454619",
   "metadata": {},
   "outputs": [
    {
     "name": "stdout",
     "output_type": "stream",
     "text": [
      "7\n",
      "8\n",
      "9\n"
     ]
    }
   ],
   "source": [
    "while x < 10:\n",
    "  print(x)\n",
    "  if x == 9:\n",
    "    x+=2\n",
    "    continue\n",
    "  x+=1"
   ]
  },
  {
   "cell_type": "code",
   "execution_count": 73,
   "id": "1bdc1596",
   "metadata": {},
   "outputs": [
    {
     "data": {
      "text/plain": [
       "11"
      ]
     },
     "execution_count": 73,
     "metadata": {},
     "output_type": "execute_result"
    }
   ],
   "source": [
    "x"
   ]
  },
  {
   "cell_type": "markdown",
   "id": "47d7b168",
   "metadata": {},
   "source": [
    "### Range"
   ]
  },
  {
   "cell_type": "code",
   "execution_count": 1,
   "id": "27ab3122",
   "metadata": {},
   "outputs": [
    {
     "data": {
      "text/plain": [
       "range(0, 10)"
      ]
     },
     "execution_count": 1,
     "metadata": {},
     "output_type": "execute_result"
    }
   ],
   "source": [
    "range(10)"
   ]
  },
  {
   "cell_type": "code",
   "execution_count": 2,
   "id": "5f52bd0b",
   "metadata": {},
   "outputs": [
    {
     "data": {
      "text/plain": [
       "range"
      ]
     },
     "execution_count": 2,
     "metadata": {},
     "output_type": "execute_result"
    }
   ],
   "source": [
    "type(range(10))"
   ]
  },
  {
   "cell_type": "code",
   "execution_count": 5,
   "id": "2f1b6eb2",
   "metadata": {},
   "outputs": [
    {
     "name": "stdout",
     "output_type": "stream",
     "text": [
      "0\n",
      "1\n"
     ]
    }
   ],
   "source": [
    "for i in range(2):\n",
    "  print(i)"
   ]
  },
  {
   "cell_type": "code",
   "execution_count": 7,
   "id": "41f28e8d",
   "metadata": {},
   "outputs": [
    {
     "name": "stdout",
     "output_type": "stream",
     "text": [
      "2\n",
      "3\n"
     ]
    }
   ],
   "source": [
    "for i in range(2,4):\n",
    "  print(i)"
   ]
  },
  {
   "cell_type": "code",
   "execution_count": 8,
   "id": "e25a6d21",
   "metadata": {},
   "outputs": [
    {
     "name": "stdout",
     "output_type": "stream",
     "text": [
      "3\n",
      "6\n",
      "9\n"
     ]
    }
   ],
   "source": [
    "for i in range(3, 10, 3):\n",
    "  print(i)"
   ]
  },
  {
   "cell_type": "code",
   "execution_count": null,
   "id": "eaa4e608",
   "metadata": {},
   "outputs": [],
   "source": [
    "def bubble_sort(arr):\n",
    "    n = len(arr)\n",
    "    for i in range(n):\n",
    "        swapped = False\n",
    "        for j in range(0, n - i - 1):\n",
    "            if arr[j] > arr[j + 1]:\n",
    "                arr[j], arr[j + 1] = arr[j + 1], arr[j]\n",
    "                swapped = True\n",
    "        if not swapped:\n",
    "            break"
   ]
  },
  {
   "cell_type": "code",
   "execution_count": null,
   "id": "ea29fdc8",
   "metadata": {},
   "outputs": [],
   "source": [
    "import random\n",
    "\n",
    "def is_sorted(arr):\n",
    "    return all(arr[i] <= arr[i + 1] for i in range(len(arr) - 1))\n",
    "\n",
    "def shuffle_sort(arr):\n",
    "    while not is_sorted(arr):\n",
    "        random.shuffle(arr)\n"
   ]
  },
  {
   "cell_type": "code",
   "execution_count": 3,
   "id": "762340ca",
   "metadata": {},
   "outputs": [],
   "source": [
    "cook_book = [\n",
    "  ['салат',\n",
    "      [\n",
    "        ['картофель', 100, 'гр.'],\n",
    "        ['морковь', 50, 'гр.'],\n",
    "        ['огурцы', 50, 'гр.'],\n",
    "        ['горошек', 30, 'гр.'],\n",
    "        ['майонез', 70, 'мл.'],\n",
    "      ]\n",
    "  ],\n",
    "  ['пицца',  \n",
    "      [\n",
    "        ['сыр', 50, 'гр.'],\n",
    "        ['томаты', 50, 'гр.'],\n",
    "        ['тесто', 100, 'гр.'],\n",
    "        ['бекон', 30, 'гр.'],\n",
    "        ['колбаса', 30, 'гр.'],\n",
    "        ['грибы', 20, 'гр.'],\n",
    "      ],\n",
    "  ],\n",
    "  ['фруктовый десерт',\n",
    "      [\n",
    "        ['хурма', 60, 'гр.'],\n",
    "        ['киви', 60, 'гр.'],\n",
    "        ['творог', 60, 'гр.'],\n",
    "        ['сахар', 10, 'гр.'],\n",
    "        ['мед', 50, 'мл.'],  \n",
    "      ]\n",
    "  ]\n",
    "]\n"
   ]
  },
  {
   "cell_type": "code",
   "execution_count": 34,
   "id": "e239cf90",
   "metadata": {},
   "outputs": [],
   "source": [
    "def calculateRecipeCost(recipe_name, persons):\n",
    "  for recipe in cook_book:\n",
    "    name, ingridients = recipe\n",
    "    if (recipe_name == name):\n",
    "      print(f'{recipe[0].capitalize()}:')\n",
    "      \n",
    "      for ingridient in ingridients:\n",
    "        ing_name, mass, mass_name = ingridient\n",
    "        print(f'{ing_name}, {mass * persons}{mass_name}')\n",
    "        \n",
    "      break"
   ]
  },
  {
   "cell_type": "code",
   "execution_count": 33,
   "id": "e34c711e",
   "metadata": {},
   "outputs": [
    {
     "name": "stdout",
     "output_type": "stream",
     "text": [
      "Пицца:\n",
      "сыр, 150гр.\n",
      "томаты, 150гр.\n",
      "тесто, 300гр.\n",
      "бекон, 90гр.\n",
      "колбаса, 90гр.\n",
      "грибы, 60гр.\n"
     ]
    }
   ],
   "source": [
    "calculateRecipeCost('пицца', 3)"
   ]
  },
  {
   "cell_type": "code",
   "execution_count": 42,
   "id": "ebf6fd27",
   "metadata": {},
   "outputs": [
    {
     "data": {
      "text/plain": [
       "(0, 1, 4, 9, 16, 25, 36, 49, 64, 81)"
      ]
     },
     "execution_count": 42,
     "metadata": {},
     "output_type": "execute_result"
    }
   ],
   "source": [
    "rng = range(10)\n",
    "\n",
    "resp = (num ** 2 for num in rng)\n",
    "tuple(resp)"
   ]
  },
  {
   "cell_type": "code",
   "execution_count": 46,
   "id": "b5841ed1",
   "metadata": {},
   "outputs": [
    {
     "data": {
      "text/plain": [
       "['num 0 is even',\n",
       " 'num 2 is even',\n",
       " 'num 4 is even',\n",
       " 'num 6 is even',\n",
       " 'num 8 is even']"
      ]
     },
     "execution_count": 46,
     "metadata": {},
     "output_type": "execute_result"
    }
   ],
   "source": [
    "[f'num {i} is even' for i in rng if not i % 2]"
   ]
  },
  {
   "cell_type": "code",
   "execution_count": 4,
   "id": "439dbd95",
   "metadata": {},
   "outputs": [
    {
     "data": {
      "text/plain": [
       "[1, 2, 3]"
      ]
     },
     "execution_count": 4,
     "metadata": {},
     "output_type": "execute_result"
    }
   ],
   "source": [
    "theme = {\n",
    "  1: 11,\n",
    "  2: 22,\n",
    "  3: 33\n",
    "}\n",
    "\n",
    "list(i for i in theme)"
   ]
  },
  {
   "cell_type": "code",
   "execution_count": 5,
   "id": "e2d87eab",
   "metadata": {},
   "outputs": [
    {
     "data": {
      "text/plain": [
       "[11, 22, 33]"
      ]
     },
     "execution_count": 5,
     "metadata": {},
     "output_type": "execute_result"
    }
   ],
   "source": [
    "list(i for i in theme.values())"
   ]
  },
  {
   "cell_type": "code",
   "execution_count": 6,
   "id": "a52a7fd5",
   "metadata": {},
   "outputs": [
    {
     "data": {
      "text/plain": [
       "dict_keys([1, 2, 3])"
      ]
     },
     "execution_count": 6,
     "metadata": {},
     "output_type": "execute_result"
    }
   ],
   "source": [
    "theme.keys()"
   ]
  },
  {
   "cell_type": "code",
   "execution_count": 7,
   "id": "9f4b21bc",
   "metadata": {},
   "outputs": [
    {
     "data": {
      "text/plain": [
       "{1: 4, 2: 5, 3: 6}"
      ]
     },
     "execution_count": 7,
     "metadata": {},
     "output_type": "execute_result"
    }
   ],
   "source": [
    "arr1 = [1, 2, 3, 7]\n",
    "arr2 = [4, 5, 6]\n",
    "\n",
    "dict(zip(arr1, arr2))"
   ]
  },
  {
   "cell_type": "code",
   "execution_count": 8,
   "id": "5c741a6c",
   "metadata": {},
   "outputs": [
    {
     "data": {
      "text/plain": [
       "{0: 0, 1: 1, 2: 4, 3: 9, 4: 16}"
      ]
     },
     "execution_count": 8,
     "metadata": {},
     "output_type": "execute_result"
    }
   ],
   "source": [
    "{n: n**2 for n in range(5)}"
   ]
  },
  {
   "cell_type": "code",
   "execution_count": 9,
   "id": "d5a717cf",
   "metadata": {},
   "outputs": [
    {
     "data": {
      "text/plain": [
       "{1: 2, 3: 4, 5: 6}"
      ]
     },
     "execution_count": 9,
     "metadata": {},
     "output_type": "execute_result"
    }
   ],
   "source": [
    "results = [(1, 2), (3, 4), (5, 6)]\n",
    "\n",
    "{metrics: value for metrics, value in results}"
   ]
  },
  {
   "cell_type": "code",
   "execution_count": 12,
   "id": "e4462631",
   "metadata": {},
   "outputs": [
    {
     "data": {
      "text/plain": [
       "{1: 11, 2: 22, 3: 33, 4: 'hi'}"
      ]
     },
     "execution_count": 12,
     "metadata": {},
     "output_type": "execute_result"
    }
   ],
   "source": [
    "theme.setdefault(4, 'hi')\n",
    "theme"
   ]
  },
  {
   "cell_type": "code",
   "execution_count": 14,
   "id": "131dd185",
   "metadata": {},
   "outputs": [
    {
     "data": {
      "text/plain": [
       "{1: 11, 2: 22, 3: 33, 4: 'bye'}"
      ]
     },
     "execution_count": 14,
     "metadata": {},
     "output_type": "execute_result"
    }
   ],
   "source": [
    "theme[4] = 'bye'\n",
    "theme.setdefault(4, 'hi')\n",
    "theme"
   ]
  },
  {
   "cell_type": "code",
   "execution_count": null,
   "id": "7ebfd8e6",
   "metadata": {},
   "outputs": [],
   "source": []
  }
 ],
 "metadata": {
  "kernelspec": {
   "display_name": "Python 3 (ipykernel)",
   "language": "python",
   "name": "python3"
  },
  "language_info": {
   "codemirror_mode": {
    "name": "ipython",
    "version": 3
   },
   "file_extension": ".py",
   "mimetype": "text/x-python",
   "name": "python",
   "nbconvert_exporter": "python",
   "pygments_lexer": "ipython3",
   "version": "3.9.6"
  }
 },
 "nbformat": 4,
 "nbformat_minor": 5
}
