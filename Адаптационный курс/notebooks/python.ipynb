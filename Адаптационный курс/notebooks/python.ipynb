{
 "cells": [
  {
   "cell_type": "markdown",
   "id": "dc85ef2d",
   "metadata": {},
   "source": [
    "### IN"
   ]
  },
  {
   "cell_type": "code",
   "execution_count": null,
   "id": "7a89daca-4d9b-401a-a5bb-cc3760e24ef7",
   "metadata": {},
   "outputs": [
    {
     "name": "stdout",
     "output_type": "stream",
     "text": [
      "ff\n"
     ]
    }
   ],
   "source": [
    "test = '1000'\n",
    "\n",
    "if '1' in test:\n",
    "  print('ff')"
   ]
  },
  {
   "cell_type": "code",
   "execution_count": 16,
   "id": "7f17fb7b",
   "metadata": {},
   "outputs": [
    {
     "name": "stdout",
     "output_type": "stream",
     "text": [
      "Hello, user! Your balance is a 1001\n",
      "hl\n",
      "e\n"
     ]
    }
   ],
   "source": [
    "word = 'hello'\n",
    "number = 1000\n",
    "\n",
    "print(f'{word.capitalize()}, user! Your balance is a {number + 1}')\n",
    "print(word[:3:2])\n",
    "print(word[1:2])"
   ]
  },
  {
   "cell_type": "markdown",
   "id": "8359ed20",
   "metadata": {},
   "source": [
    "### Деструктуризация"
   ]
  },
  {
   "cell_type": "code",
   "execution_count": 4,
   "id": "912b03f9",
   "metadata": {},
   "outputs": [
    {
     "name": "stdout",
     "output_type": "stream",
     "text": [
      "1\n"
     ]
    },
    {
     "data": {
      "text/plain": [
       "1"
      ]
     },
     "execution_count": 4,
     "metadata": {},
     "output_type": "execute_result"
    }
   ],
   "source": [
    "first, second, third = [1, 2, 3]\n",
    "print(first)\n",
    "\n",
    "f, *_ = [1, 2, 3]\n",
    "f"
   ]
  },
  {
   "cell_type": "code",
   "execution_count": 2,
   "id": "64dd2e68",
   "metadata": {},
   "outputs": [
    {
     "data": {
      "text/plain": [
       "[6]"
      ]
     },
     "execution_count": 2,
     "metadata": {},
     "output_type": "execute_result"
    }
   ],
   "source": [
    "fi, *other, last = [5,6,7]\n",
    "other"
   ]
  },
  {
   "cell_type": "markdown",
   "id": "68a4c075",
   "metadata": {},
   "source": [
    "### Конкатенация списков"
   ]
  },
  {
   "cell_type": "code",
   "execution_count": 5,
   "id": "6771812d",
   "metadata": {},
   "outputs": [
    {
     "data": {
      "text/plain": [
       "[[1, 2], [2, 3], [3, 4], [4, 5]]"
      ]
     },
     "execution_count": 5,
     "metadata": {},
     "output_type": "execute_result"
    }
   ],
   "source": [
    "arr1 = [[1,2], [2,3]]\n",
    "arr2 = [[3,4], [4,5]]\n",
    "\n",
    "arr1 + arr2"
   ]
  },
  {
   "cell_type": "markdown",
   "id": "819fb7f6",
   "metadata": {},
   "source": [
    "### Операции со списками"
   ]
  },
  {
   "cell_type": "code",
   "execution_count": 3,
   "id": "a9ee019f",
   "metadata": {},
   "outputs": [],
   "source": [
    "months = [\n",
    "  ['Jan', 12000],\n",
    "  ['Feb', 13000],\n",
    "  ['Mar', 14000],\n",
    "  ['Apr', 15000],\n",
    "  ['Jun', 16000],\n",
    "  ['Jul', 17000],\n",
    "  ['Aug', 18000],\n",
    "]"
   ]
  },
  {
   "cell_type": "code",
   "execution_count": 4,
   "id": "15667874",
   "metadata": {},
   "outputs": [
    {
     "data": {
      "text/plain": [
       "[['Feb', 13000],\n",
       " ['Mar', 14000],\n",
       " ['Apr', 15000],\n",
       " ['Jun', 16000],\n",
       " ['Jul', 17000],\n",
       " ['Aug', 18000]]"
      ]
     },
     "execution_count": 4,
     "metadata": {},
     "output_type": "execute_result"
    }
   ],
   "source": [
    "del months[0]\n",
    "months"
   ]
  },
  {
   "cell_type": "code",
   "execution_count": 7,
   "id": "d9d469f1",
   "metadata": {},
   "outputs": [
    {
     "data": {
      "text/plain": [
       "[['Mar', 14000],\n",
       " ['Apr', 15000],\n",
       " ['Jun', 16000],\n",
       " ['Jul', 17000],\n",
       " ['Aug', 18000]]"
      ]
     },
     "execution_count": 7,
     "metadata": {},
     "output_type": "execute_result"
    }
   ],
   "source": [
    "months.remove(['Feb', 13000])\n",
    "months"
   ]
  },
  {
   "cell_type": "code",
   "execution_count": 14,
   "id": "367854d1",
   "metadata": {},
   "outputs": [
    {
     "data": {
      "text/plain": [
       "[['Mar', 14000],\n",
       " ['Apr', 15000],\n",
       " ['Jun', 16000],\n",
       " ['Jul', 17000],\n",
       " ['Aug', 18000],\n",
       " ['Sep', 19000]]"
      ]
     },
     "execution_count": 14,
     "metadata": {},
     "output_type": "execute_result"
    }
   ],
   "source": [
    "months.append(['Sep', 19000])\n",
    "months"
   ]
  },
  {
   "cell_type": "code",
   "execution_count": 16,
   "id": "03089061",
   "metadata": {},
   "outputs": [
    {
     "data": {
      "text/plain": [
       "[['Mar', 14000],\n",
       " ['Apr', 15000],\n",
       " ['Fake', 0],\n",
       " ['Fake', 0],\n",
       " ['Jun', 16000],\n",
       " ['Jul', 17000],\n",
       " ['Aug', 18000],\n",
       " ['Sep', 19000]]"
      ]
     },
     "execution_count": 16,
     "metadata": {},
     "output_type": "execute_result"
    }
   ],
   "source": [
    "months.insert(2, ['Fake', 0])\n",
    "months"
   ]
  },
  {
   "cell_type": "code",
   "execution_count": 18,
   "id": "11eb5786",
   "metadata": {},
   "outputs": [
    {
     "data": {
      "text/plain": [
       "2"
      ]
     },
     "execution_count": 18,
     "metadata": {},
     "output_type": "execute_result"
    }
   ],
   "source": [
    "months.count(['Fake', 0])"
   ]
  },
  {
   "cell_type": "code",
   "execution_count": 19,
   "id": "a3dec239",
   "metadata": {},
   "outputs": [
    {
     "data": {
      "text/plain": [
       "2"
      ]
     },
     "execution_count": 19,
     "metadata": {},
     "output_type": "execute_result"
    }
   ],
   "source": [
    "months.index(['Fake', 0])"
   ]
  },
  {
   "cell_type": "code",
   "execution_count": 23,
   "id": "ff4c2f38",
   "metadata": {},
   "outputs": [
    {
     "data": {
      "text/plain": [
       "[['Mar', 14000],\n",
       " ['Apr', 15000],\n",
       " ['Fake', 0],\n",
       " ['Fake', 0],\n",
       " ['Jun', 16000],\n",
       " ['Jul', 17000],\n",
       " ['Aug', 18000],\n",
       " ['Sep', 19000]]"
      ]
     },
     "execution_count": 23,
     "metadata": {},
     "output_type": "execute_result"
    }
   ],
   "source": [
    "months.reverse()\n",
    "months"
   ]
  },
  {
   "cell_type": "code",
   "execution_count": 26,
   "id": "a7c8e23c",
   "metadata": {},
   "outputs": [
    {
     "data": {
      "text/plain": [
       "8"
      ]
     },
     "execution_count": 26,
     "metadata": {},
     "output_type": "execute_result"
    }
   ],
   "source": [
    "len(months)"
   ]
  },
  {
   "cell_type": "code",
   "execution_count": 28,
   "id": "9d4e0581",
   "metadata": {},
   "outputs": [
    {
     "data": {
      "text/plain": [
       "60"
      ]
     },
     "execution_count": 28,
     "metadata": {},
     "output_type": "execute_result"
    }
   ],
   "source": [
    "nums = [10, 20, 30]\n",
    "sum(nums)"
   ]
  },
  {
   "cell_type": "code",
   "execution_count": 29,
   "id": "f8afb310",
   "metadata": {},
   "outputs": [
    {
     "data": {
      "text/plain": [
       "30"
      ]
     },
     "execution_count": 29,
     "metadata": {},
     "output_type": "execute_result"
    }
   ],
   "source": [
    "max(nums)"
   ]
  },
  {
   "cell_type": "code",
   "execution_count": 30,
   "id": "2e48f13a",
   "metadata": {},
   "outputs": [
    {
     "data": {
      "text/plain": [
       "10"
      ]
     },
     "execution_count": 30,
     "metadata": {},
     "output_type": "execute_result"
    }
   ],
   "source": [
    "min(nums)"
   ]
  },
  {
   "cell_type": "code",
   "execution_count": 31,
   "id": "f3579d98",
   "metadata": {},
   "outputs": [
    {
     "data": {
      "text/plain": [
       "[['Apr', 15000],\n",
       " ['Aug', 18000],\n",
       " ['Fake', 0],\n",
       " ['Fake', 0],\n",
       " ['Jul', 17000],\n",
       " ['Jun', 16000],\n",
       " ['Mar', 14000],\n",
       " ['Sep', 19000]]"
      ]
     },
     "execution_count": 31,
     "metadata": {},
     "output_type": "execute_result"
    }
   ],
   "source": [
    "sorted(months)"
   ]
  },
  {
   "cell_type": "code",
   "execution_count": 32,
   "id": "1090ebe4",
   "metadata": {},
   "outputs": [
    {
     "data": {
      "text/plain": [
       "[['Sep', 19000],\n",
       " ['Mar', 14000],\n",
       " ['Jun', 16000],\n",
       " ['Jul', 17000],\n",
       " ['Fake', 0],\n",
       " ['Fake', 0],\n",
       " ['Aug', 18000],\n",
       " ['Apr', 15000]]"
      ]
     },
     "execution_count": 32,
     "metadata": {},
     "output_type": "execute_result"
    }
   ],
   "source": [
    "sorted(months, reverse=True)"
   ]
  },
  {
   "cell_type": "markdown",
   "id": "628a7e66",
   "metadata": {},
   "source": [
    "### Переменные списков - ссылки"
   ]
  },
  {
   "cell_type": "code",
   "execution_count": 33,
   "id": "6a597c9c",
   "metadata": {},
   "outputs": [
    {
     "name": "stdout",
     "output_type": "stream",
     "text": [
      "True\n"
     ]
    }
   ],
   "source": [
    "arr3 = [1, 2, 3]\n",
    "arr4 = arr3\n",
    "\n",
    "print(id(arr3) == id(arr4))"
   ]
  },
  {
   "cell_type": "code",
   "execution_count": 34,
   "id": "3aa9e747",
   "metadata": {},
   "outputs": [
    {
     "name": "stdout",
     "output_type": "stream",
     "text": [
      "False\n"
     ]
    }
   ],
   "source": [
    "import copy\n",
    "\n",
    "arr5 = copy.copy(arr3)\n",
    "print(id(arr3) == id(arr5))"
   ]
  },
  {
   "cell_type": "markdown",
   "id": "532fcff1",
   "metadata": {},
   "source": [
    "### Tuple (Кортежи)"
   ]
  },
  {
   "cell_type": "code",
   "execution_count": 36,
   "id": "e8b117c9",
   "metadata": {},
   "outputs": [
    {
     "data": {
      "text/plain": [
       "300"
      ]
     },
     "execution_count": 36,
     "metadata": {},
     "output_type": "execute_result"
    }
   ],
   "source": [
    "# Неизменяемые списки\n",
    "# Нельзя добавить или удалить элементы из уже созданного кортежа\n",
    "# Занимают меньше памяти чем списки\n",
    "\n",
    "salary_tuple = (100, 200, 300)\n",
    "salary_tuple[2]"
   ]
  },
  {
   "cell_type": "code",
   "execution_count": 37,
   "id": "5f2a8e8b",
   "metadata": {},
   "outputs": [
    {
     "data": {
      "text/plain": [
       "tuple"
      ]
     },
     "execution_count": 37,
     "metadata": {},
     "output_type": "execute_result"
    }
   ],
   "source": [
    "type(salary_tuple)"
   ]
  },
  {
   "cell_type": "code",
   "execution_count": 38,
   "id": "6492e559",
   "metadata": {},
   "outputs": [
    {
     "data": {
      "text/plain": [
       "list"
      ]
     },
     "execution_count": 38,
     "metadata": {},
     "output_type": "execute_result"
    }
   ],
   "source": [
    "type(list(salary_tuple))"
   ]
  },
  {
   "cell_type": "code",
   "execution_count": 59,
   "id": "d9f705bf",
   "metadata": {},
   "outputs": [
    {
     "data": {
      "text/plain": [
       "tuple"
      ]
     },
     "execution_count": 59,
     "metadata": {},
     "output_type": "execute_result"
    }
   ],
   "source": [
    "# кортеж из 1 элемента задается так\n",
    "t = ('one',)\n",
    "type(t)"
   ]
  },
  {
   "cell_type": "code",
   "execution_count": 60,
   "id": "beb93269",
   "metadata": {},
   "outputs": [
    {
     "data": {
      "text/plain": [
       "str"
      ]
     },
     "execution_count": 60,
     "metadata": {},
     "output_type": "execute_result"
    }
   ],
   "source": [
    "# без запятой получится так\n",
    "type(('one'))"
   ]
  },
  {
   "cell_type": "markdown",
   "id": "ec52ac0c",
   "metadata": {},
   "source": [
    "#### Функция zip"
   ]
  },
  {
   "cell_type": "code",
   "execution_count": 57,
   "id": "64a5144f",
   "metadata": {},
   "outputs": [
    {
     "data": {
      "text/plain": [
       "<zip at 0x107502940>"
      ]
     },
     "execution_count": 57,
     "metadata": {},
     "output_type": "execute_result"
    }
   ],
   "source": [
    "arr1 = [1, 2, 3,]\n",
    "arr2 = [4, 5, 6, 7]\n",
    "\n",
    "zip1 = zip(arr1, arr2)\n",
    "zip1"
   ]
  },
  {
   "cell_type": "code",
   "execution_count": 58,
   "id": "b6c4af4d",
   "metadata": {},
   "outputs": [
    {
     "data": {
      "text/plain": [
       "[(1, 4), (2, 5), (3, 6)]"
      ]
     },
     "execution_count": 58,
     "metadata": {},
     "output_type": "execute_result"
    }
   ],
   "source": [
    "list(zip1)"
   ]
  },
  {
   "cell_type": "code",
   "execution_count": 61,
   "id": "5bf2c889",
   "metadata": {},
   "outputs": [],
   "source": [
    "arr3 = [10, 11, 12]\n",
    "\n",
    "zip2 = zip(arr1, arr2, arr3)"
   ]
  },
  {
   "cell_type": "code",
   "execution_count": 62,
   "id": "3b0ecda2",
   "metadata": {},
   "outputs": [
    {
     "data": {
      "text/plain": [
       "[(1, 4, 10), (2, 5, 11), (3, 6, 12)]"
      ]
     },
     "execution_count": 62,
     "metadata": {},
     "output_type": "execute_result"
    }
   ],
   "source": [
    "list(zip2)"
   ]
  },
  {
   "cell_type": "markdown",
   "id": "3394ba3f",
   "metadata": {},
   "source": [
    "### Цикл for"
   ]
  },
  {
   "cell_type": "code",
   "execution_count": 74,
   "id": "bdc95da0",
   "metadata": {},
   "outputs": [
    {
     "name": "stdout",
     "output_type": "stream",
     "text": [
      "h\n",
      "e\n",
      "l\n",
      "l\n",
      "o\n"
     ]
    }
   ],
   "source": [
    "# итерация по строке\n",
    "str = 'hello'\n",
    "\n",
    "for i in str:\n",
    "  print(i)"
   ]
  },
  {
   "cell_type": "code",
   "execution_count": 66,
   "id": "11b9fcd3",
   "metadata": {},
   "outputs": [
    {
     "name": "stdout",
     "output_type": "stream",
     "text": [
      "1\n",
      "2\n",
      "3\n"
     ]
    }
   ],
   "source": [
    "# итерация по списку\n",
    "list = [1, 2, 3]\n",
    "\n",
    "for i in list:\n",
    "  print(i)"
   ]
  },
  {
   "cell_type": "markdown",
   "id": "46f4aa8b",
   "metadata": {},
   "source": [
    "### Цикл while"
   ]
  },
  {
   "cell_type": "code",
   "execution_count": 69,
   "id": "d0b4430e",
   "metadata": {},
   "outputs": [
    {
     "name": "stdout",
     "output_type": "stream",
     "text": [
      "1\n",
      "2\n",
      "3\n",
      "4\n"
     ]
    }
   ],
   "source": [
    "x = 1\n",
    " \n",
    "while x < 5:\n",
    "  print(x)\n",
    "  x+=1\n"
   ]
  },
  {
   "cell_type": "markdown",
   "id": "8f9cb04e",
   "metadata": {},
   "source": [
    "##### break"
   ]
  },
  {
   "cell_type": "code",
   "execution_count": 71,
   "id": "849a4e84",
   "metadata": {},
   "outputs": [
    {
     "name": "stdout",
     "output_type": "stream",
     "text": [
      "6\n",
      "7\n"
     ]
    }
   ],
   "source": [
    "while x < 10:\n",
    "  x+=1\n",
    "  print(x)\n",
    "  if x == 7:\n",
    "    break"
   ]
  },
  {
   "cell_type": "markdown",
   "id": "f3e57b27",
   "metadata": {},
   "source": [
    "##### continue"
   ]
  },
  {
   "cell_type": "code",
   "execution_count": 72,
   "id": "f5454619",
   "metadata": {},
   "outputs": [
    {
     "name": "stdout",
     "output_type": "stream",
     "text": [
      "7\n",
      "8\n",
      "9\n"
     ]
    }
   ],
   "source": [
    "while x < 10:\n",
    "  print(x)\n",
    "  if x == 9:\n",
    "    x+=2\n",
    "    continue\n",
    "  x+=1"
   ]
  },
  {
   "cell_type": "code",
   "execution_count": 73,
   "id": "1bdc1596",
   "metadata": {},
   "outputs": [
    {
     "data": {
      "text/plain": [
       "11"
      ]
     },
     "execution_count": 73,
     "metadata": {},
     "output_type": "execute_result"
    }
   ],
   "source": [
    "x"
   ]
  },
  {
   "cell_type": "markdown",
   "id": "47d7b168",
   "metadata": {},
   "source": [
    "### Range"
   ]
  },
  {
   "cell_type": "code",
   "execution_count": 1,
   "id": "27ab3122",
   "metadata": {},
   "outputs": [
    {
     "data": {
      "text/plain": [
       "range(0, 10)"
      ]
     },
     "execution_count": 1,
     "metadata": {},
     "output_type": "execute_result"
    }
   ],
   "source": [
    "range(10)"
   ]
  },
  {
   "cell_type": "code",
   "execution_count": 2,
   "id": "5f52bd0b",
   "metadata": {},
   "outputs": [
    {
     "data": {
      "text/plain": [
       "range"
      ]
     },
     "execution_count": 2,
     "metadata": {},
     "output_type": "execute_result"
    }
   ],
   "source": [
    "type(range(10))"
   ]
  },
  {
   "cell_type": "code",
   "execution_count": 5,
   "id": "2f1b6eb2",
   "metadata": {},
   "outputs": [
    {
     "name": "stdout",
     "output_type": "stream",
     "text": [
      "0\n",
      "1\n"
     ]
    }
   ],
   "source": [
    "for i in range(2):\n",
    "  print(i)"
   ]
  },
  {
   "cell_type": "code",
   "execution_count": 7,
   "id": "41f28e8d",
   "metadata": {},
   "outputs": [
    {
     "name": "stdout",
     "output_type": "stream",
     "text": [
      "2\n",
      "3\n"
     ]
    }
   ],
   "source": [
    "for i in range(2,4):\n",
    "  print(i)"
   ]
  },
  {
   "cell_type": "code",
   "execution_count": 8,
   "id": "e25a6d21",
   "metadata": {},
   "outputs": [
    {
     "name": "stdout",
     "output_type": "stream",
     "text": [
      "3\n",
      "6\n",
      "9\n"
     ]
    }
   ],
   "source": [
    "for i in range(3, 10, 3):\n",
    "  print(i)"
   ]
  },
  {
   "cell_type": "code",
   "execution_count": null,
   "id": "eaa4e608",
   "metadata": {},
   "outputs": [],
   "source": [
    "def bubble_sort(arr):\n",
    "    n = len(arr)\n",
    "    for i in range(n):\n",
    "        swapped = False\n",
    "        for j in range(0, n - i - 1):\n",
    "            if arr[j] > arr[j + 1]:\n",
    "                arr[j], arr[j + 1] = arr[j + 1], arr[j]\n",
    "                swapped = True\n",
    "        if not swapped:\n",
    "            break"
   ]
  },
  {
   "cell_type": "code",
   "execution_count": null,
   "id": "ea29fdc8",
   "metadata": {},
   "outputs": [],
   "source": [
    "import random\n",
    "\n",
    "def is_sorted(arr):\n",
    "    return all(arr[i] <= arr[i + 1] for i in range(len(arr) - 1))\n",
    "\n",
    "def shuffle_sort(arr):\n",
    "    while not is_sorted(arr):\n",
    "        random.shuffle(arr)\n"
   ]
  },
  {
   "cell_type": "code",
   "execution_count": 3,
   "id": "762340ca",
   "metadata": {},
   "outputs": [],
   "source": [
    "cook_book = [\n",
    "  ['салат',\n",
    "      [\n",
    "        ['картофель', 100, 'гр.'],\n",
    "        ['морковь', 50, 'гр.'],\n",
    "        ['огурцы', 50, 'гр.'],\n",
    "        ['горошек', 30, 'гр.'],\n",
    "        ['майонез', 70, 'мл.'],\n",
    "      ]\n",
    "  ],\n",
    "  ['пицца',  \n",
    "      [\n",
    "        ['сыр', 50, 'гр.'],\n",
    "        ['томаты', 50, 'гр.'],\n",
    "        ['тесто', 100, 'гр.'],\n",
    "        ['бекон', 30, 'гр.'],\n",
    "        ['колбаса', 30, 'гр.'],\n",
    "        ['грибы', 20, 'гр.'],\n",
    "      ],\n",
    "  ],\n",
    "  ['фруктовый десерт',\n",
    "      [\n",
    "        ['хурма', 60, 'гр.'],\n",
    "        ['киви', 60, 'гр.'],\n",
    "        ['творог', 60, 'гр.'],\n",
    "        ['сахар', 10, 'гр.'],\n",
    "        ['мед', 50, 'мл.'],  \n",
    "      ]\n",
    "  ]\n",
    "]\n"
   ]
  },
  {
   "cell_type": "code",
   "execution_count": 34,
   "id": "e239cf90",
   "metadata": {},
   "outputs": [],
   "source": [
    "def calculateRecipeCost(recipe_name, persons):\n",
    "  for recipe in cook_book:\n",
    "    name, ingridients = recipe\n",
    "    if (recipe_name == name):\n",
    "      print(f'{recipe[0].capitalize()}:')\n",
    "      \n",
    "      for ingridient in ingridients:\n",
    "        ing_name, mass, mass_name = ingridient\n",
    "        print(f'{ing_name}, {mass * persons}{mass_name}')\n",
    "        \n",
    "      break"
   ]
  },
  {
   "cell_type": "code",
   "execution_count": 33,
   "id": "e34c711e",
   "metadata": {},
   "outputs": [
    {
     "name": "stdout",
     "output_type": "stream",
     "text": [
      "Пицца:\n",
      "сыр, 150гр.\n",
      "томаты, 150гр.\n",
      "тесто, 300гр.\n",
      "бекон, 90гр.\n",
      "колбаса, 90гр.\n",
      "грибы, 60гр.\n"
     ]
    }
   ],
   "source": [
    "calculateRecipeCost('пицца', 3)"
   ]
  },
  {
   "cell_type": "code",
   "execution_count": 42,
   "id": "ebf6fd27",
   "metadata": {},
   "outputs": [
    {
     "data": {
      "text/plain": [
       "(0, 1, 4, 9, 16, 25, 36, 49, 64, 81)"
      ]
     },
     "execution_count": 42,
     "metadata": {},
     "output_type": "execute_result"
    }
   ],
   "source": [
    "rng = range(10)\n",
    "\n",
    "resp = (num ** 2 for num in rng)\n",
    "tuple(resp)"
   ]
  },
  {
   "cell_type": "code",
   "execution_count": 46,
   "id": "b5841ed1",
   "metadata": {},
   "outputs": [
    {
     "data": {
      "text/plain": [
       "['num 0 is even',\n",
       " 'num 2 is even',\n",
       " 'num 4 is even',\n",
       " 'num 6 is even',\n",
       " 'num 8 is even']"
      ]
     },
     "execution_count": 46,
     "metadata": {},
     "output_type": "execute_result"
    }
   ],
   "source": [
    "[f'num {i} is even' for i in rng if not i % 2]"
   ]
  },
  {
   "cell_type": "code",
   "execution_count": 4,
   "id": "439dbd95",
   "metadata": {},
   "outputs": [
    {
     "data": {
      "text/plain": [
       "[1, 2, 3]"
      ]
     },
     "execution_count": 4,
     "metadata": {},
     "output_type": "execute_result"
    }
   ],
   "source": [
    "theme = {\n",
    "  1: 11,\n",
    "  2: 22,\n",
    "  3: 33\n",
    "}\n",
    "\n",
    "list(i for i in theme)"
   ]
  },
  {
   "cell_type": "code",
   "execution_count": 5,
   "id": "e2d87eab",
   "metadata": {},
   "outputs": [
    {
     "data": {
      "text/plain": [
       "[11, 22, 33]"
      ]
     },
     "execution_count": 5,
     "metadata": {},
     "output_type": "execute_result"
    }
   ],
   "source": [
    "list(i for i in theme.values())"
   ]
  },
  {
   "cell_type": "code",
   "execution_count": 6,
   "id": "a52a7fd5",
   "metadata": {},
   "outputs": [
    {
     "data": {
      "text/plain": [
       "dict_keys([1, 2, 3])"
      ]
     },
     "execution_count": 6,
     "metadata": {},
     "output_type": "execute_result"
    }
   ],
   "source": [
    "theme.keys()"
   ]
  },
  {
   "cell_type": "code",
   "execution_count": 7,
   "id": "9f4b21bc",
   "metadata": {},
   "outputs": [
    {
     "data": {
      "text/plain": [
       "{1: 4, 2: 5, 3: 6}"
      ]
     },
     "execution_count": 7,
     "metadata": {},
     "output_type": "execute_result"
    }
   ],
   "source": [
    "arr1 = [1, 2, 3, 7]\n",
    "arr2 = [4, 5, 6]\n",
    "\n",
    "dict(zip(arr1, arr2))"
   ]
  },
  {
   "cell_type": "code",
   "execution_count": 8,
   "id": "5c741a6c",
   "metadata": {},
   "outputs": [
    {
     "data": {
      "text/plain": [
       "{0: 0, 1: 1, 2: 4, 3: 9, 4: 16}"
      ]
     },
     "execution_count": 8,
     "metadata": {},
     "output_type": "execute_result"
    }
   ],
   "source": [
    "{n: n**2 for n in range(5)}"
   ]
  },
  {
   "cell_type": "code",
   "execution_count": 9,
   "id": "d5a717cf",
   "metadata": {},
   "outputs": [
    {
     "data": {
      "text/plain": [
       "{1: 2, 3: 4, 5: 6}"
      ]
     },
     "execution_count": 9,
     "metadata": {},
     "output_type": "execute_result"
    }
   ],
   "source": [
    "results = [(1, 2), (3, 4), (5, 6)]\n",
    "\n",
    "{metrics: value for metrics, value in results}"
   ]
  },
  {
   "cell_type": "code",
   "execution_count": 12,
   "id": "e4462631",
   "metadata": {},
   "outputs": [
    {
     "data": {
      "text/plain": [
       "{1: 11, 2: 22, 3: 33, 4: 'hi'}"
      ]
     },
     "execution_count": 12,
     "metadata": {},
     "output_type": "execute_result"
    }
   ],
   "source": [
    "theme.setdefault(4, 'hi')\n",
    "theme"
   ]
  },
  {
   "cell_type": "code",
   "execution_count": 14,
   "id": "131dd185",
   "metadata": {},
   "outputs": [
    {
     "data": {
      "text/plain": [
       "{1: 11, 2: 22, 3: 33, 4: 'bye'}"
      ]
     },
     "execution_count": 14,
     "metadata": {},
     "output_type": "execute_result"
    }
   ],
   "source": [
    "theme[4] = 'bye'\n",
    "theme.setdefault(4, 'hi')\n",
    "theme"
   ]
  },
  {
   "cell_type": "code",
   "execution_count": 21,
   "id": "7ebfd8e6",
   "metadata": {},
   "outputs": [
    {
     "data": {
      "text/plain": [
       "16"
      ]
     },
     "execution_count": 21,
     "metadata": {},
     "output_type": "execute_result"
    }
   ],
   "source": [
    "square = lambda x,y: x ** y\n",
    "square(4,2)"
   ]
  },
  {
   "cell_type": "code",
   "execution_count": 27,
   "id": "c5b5e0ca",
   "metadata": {},
   "outputs": [
    {
     "data": {
      "text/plain": [
       "'even'"
      ]
     },
     "execution_count": 27,
     "metadata": {},
     "output_type": "execute_result"
    }
   ],
   "source": [
    "is_even = lambda num: 'even' if (num % 2 == 0) else 'odd'\n",
    "is_even(2)"
   ]
  },
  {
   "cell_type": "code",
   "execution_count": 29,
   "id": "14be9c19",
   "metadata": {},
   "outputs": [
    {
     "data": {
      "text/plain": [
       "['odd', 'even', 'odd', 'even', 'odd']"
      ]
     },
     "execution_count": 29,
     "metadata": {},
     "output_type": "execute_result"
    }
   ],
   "source": [
    "list1 = [1, 2, 3, 4, 5]\n",
    "list(map(is_even, list1))"
   ]
  },
  {
   "cell_type": "code",
   "execution_count": 6,
   "id": "0a453fcb",
   "metadata": {},
   "outputs": [
    {
     "name": "stdout",
     "output_type": "stream",
     "text": [
      "(1, 2, 3, 4)\n",
      "1 2 [3, 4]\n"
     ]
    }
   ],
   "source": [
    "def test(*params):\n",
    "  print(params)\n",
    "  param1, param2, *rest = params\n",
    "  print(param1, param2, rest)\n",
    "  \n",
    "test(1, 2, 3, 4)"
   ]
  },
  {
   "cell_type": "code",
   "execution_count": 9,
   "id": "098ace9e",
   "metadata": {},
   "outputs": [
    {
     "name": "stdout",
     "output_type": "stream",
     "text": [
      "{'hello': 1, 'hi': 2, 'output': 3}\n",
      "2\n"
     ]
    }
   ],
   "source": [
    "def test1(**params):\n",
    "  print(params)\n",
    "  print(params['hi'])\n",
    "  \n",
    "test1(hello=1, hi=2, output=3)"
   ]
  },
  {
   "cell_type": "code",
   "execution_count": null,
   "id": "b205a804",
   "metadata": {},
   "outputs": [],
   "source": [
    "# прочитать данные из файла\n",
    "\n",
    "with open('data.csv') as file_data:\n",
    "  for line in file_data:\n",
    "    print(line)"
   ]
  },
  {
   "cell_type": "code",
   "execution_count": 10,
   "id": "97ed4ecc",
   "metadata": {},
   "outputs": [
    {
     "data": {
      "text/plain": [
       "True"
      ]
     },
     "execution_count": 10,
     "metadata": {},
     "output_type": "execute_result"
    }
   ],
   "source": [
    "number = '21'\n",
    "number.isnumeric()"
   ]
  },
  {
   "cell_type": "code",
   "execution_count": 11,
   "id": "84f66870",
   "metadata": {},
   "outputs": [
    {
     "data": {
      "text/plain": [
       "False"
      ]
     },
     "execution_count": 11,
     "metadata": {},
     "output_type": "execute_result"
    }
   ],
   "source": [
    "word = 'hi'\n",
    "word.isnumeric()"
   ]
  },
  {
   "cell_type": "code",
   "execution_count": 1,
   "id": "107e8602",
   "metadata": {},
   "outputs": [],
   "source": [
    "def binary_search(arr, target):\n",
    "    low = 0\n",
    "    high = len(arr) - 1\n",
    "\n",
    "    while low <= high:\n",
    "        mid = (low + high) // 2\n",
    "\n",
    "        if arr[mid] == target:\n",
    "            return mid\n",
    "        \n",
    "        elif arr[mid] < target:\n",
    "            low = mid + 1\n",
    "        \n",
    "        else:\n",
    "            high = mid - 1\n",
    "\n",
    "    return -1"
   ]
  },
  {
   "cell_type": "code",
   "execution_count": 2,
   "id": "7965bbb4",
   "metadata": {},
   "outputs": [],
   "source": [
    "def dfs(graph, node, visited):\n",
    "    if node not in visited:\n",
    "        print(node)\n",
    "        visited.add(node)\n",
    "        \n",
    "        for neighbor in graph[node]:\n",
    "            dfs(graph, neighbor, visited)"
   ]
  },
  {
   "cell_type": "code",
   "execution_count": null,
   "id": "cc232267",
   "metadata": {},
   "outputs": [],
   "source": [
    "from collections import deque\n",
    "\n",
    "def bfs(graph, start):\n",
    "    visited = set()\n",
    "    queue = deque([start])\n",
    "    \n",
    "    visited.add(start)\n",
    "\n",
    "    while queue:\n",
    "        node = queue.popleft()\n",
    "        print(node)\n",
    "\n",
    "        for neighbor in graph[node]:\n",
    "            if neighbor not in visited:\n",
    "                visited.add(neighbor)\n",
    "                queue.append(neighbor)"
   ]
  },
  {
   "cell_type": "code",
   "execution_count": 7,
   "id": "e981e142",
   "metadata": {},
   "outputs": [
    {
     "data": {
      "text/plain": [
       "({8: 0.0003662109375,\n",
       "  9: 0.0012359619140625,\n",
       "  10: 0.00308990478515625,\n",
       "  11: 0.006372928619384766,\n",
       "  12: 0.011471271514892578},\n",
       " 0.022475242614746094)"
      ]
     },
     "execution_count": 7,
     "metadata": {},
     "output_type": "execute_result"
    }
   ],
   "source": [
    "import math\n",
    "\n",
    "# Пересчет значений вручную шаг за шагом\n",
    "p = 0.75  # вероятность остаться на месте\n",
    "q = 0.25  # вероятность двигаться на 1 мкм\n",
    "k = 7  # количество шагов (расстояние до детектора, 7 мкм)\n",
    "n_values = [8, 9, 10, 11, 12]  # количество секунд\n",
    "\n",
    "# Функция для расчета биномиальной вероятности вручную\n",
    "def binomial_probability(n, k, p, q):\n",
    "    C_nk = math.comb(n, k)  # число сочетаний C(n, k)\n",
    "    return C_nk * (q**k) * (p**(n-k))\n",
    "\n",
    "# Вычисление вероятностей для каждого значения n\n",
    "probabilities = {n: binomial_probability(n, k, p, q) for n in n_values}\n",
    "probabilities, sum(probabilities.values()) - 0.25 ** 7"
   ]
  },
  {
   "cell_type": "code",
   "execution_count": 8,
   "id": "2df851e4",
   "metadata": {},
   "outputs": [
    {
     "data": {
      "text/plain": [
       "({8: 0.0003204345703125,\n",
       "  9: 0.0009613037109375,\n",
       "  10: 0.002162933349609375,\n",
       "  11: 0.004055500030517578,\n",
       "  12: 0.006691575050354004},\n",
       " 0.014191746711730957)"
      ]
     },
     "execution_count": 8,
     "metadata": {},
     "output_type": "execute_result"
    }
   ],
   "source": [
    "# Вероятности для n от 8 до 12 секунд\n",
    "n_values = [8, 9, 10, 11, 12]\n",
    "q = 0.25  # вероятность успешного шага\n",
    "p = 0.75  # вероятность остаться на месте\n",
    "successes = 6  # количество успехов\n",
    "\n",
    "# Функция для расчета вероятности для каждого значения n\n",
    "def calculate_probability(n, successes, q, p):\n",
    "    C_n_minus_1 = math.comb(n-1, successes)  # число сочетаний\n",
    "    return C_n_minus_1 * (q**successes) * (p**(n-1-successes)) * q\n",
    "\n",
    "# Вычисление вероятностей для каждого значения n\n",
    "probabilities = {n: calculate_probability(n, successes, q, p) for n in n_values}\n",
    "total_probability = sum(probabilities.values())\n",
    "probabilities, total_probability"
   ]
  },
  {
   "cell_type": "code",
   "execution_count": 9,
   "id": "d6fb6ea5",
   "metadata": {},
   "outputs": [
    {
     "data": {
      "text/plain": [
       "(0.13751841258340122,\n",
       " 0.12201356530762425,\n",
       " 5.93671410343372e-05,\n",
       " 6.798227056804972e-05)"
      ]
     },
     "execution_count": 9,
     "metadata": {},
     "output_type": "execute_result"
    }
   ],
   "source": [
    "import math\n",
    "\n",
    "# Функция для расчета вероятности по распределению Пуассона\n",
    "def poisson_prob(lmbda, k):\n",
    "    return (lmbda ** k * math.exp(-lmbda)) / math.factorial(k)\n",
    "\n",
    "# Функция для расчета вероятности по нормальному распределению (Лапласа)\n",
    "def laplace_prob(mu, sigma, k):\n",
    "    return (1 / (sigma * math.sqrt(2 * math.pi))) * math.exp(-((k - mu) ** 2) / (2 * sigma ** 2))\n",
    "\n",
    "# Данные для сентября\n",
    "n = 72\n",
    "p_september = 30 / 365\n",
    "k = 4\n",
    "\n",
    "# Пуассон для сентября\n",
    "lambda_september = n * p_september\n",
    "poisson_september = poisson_prob(lambda_september, k)\n",
    "\n",
    "# Лаплас для сентября\n",
    "mu_september = lambda_september\n",
    "sigma_september = math.sqrt(n * p_september * (1 - p_september))\n",
    "laplace_september = laplace_prob(mu_september, sigma_september, k)\n",
    "\n",
    "# Данные для лета\n",
    "p_summer = 92 / 365\n",
    "\n",
    "# Пуассон для лета\n",
    "lambda_summer = n * p_summer\n",
    "poisson_summer = poisson_prob(lambda_summer, k)\n",
    "\n",
    "# Лаплас для лета\n",
    "mu_summer = lambda_summer\n",
    "sigma_summer = math.sqrt(n * p_summer * (1 - p_summer))\n",
    "laplace_summer = laplace_prob(mu_summer, sigma_summer, k)\n",
    "\n",
    "poisson_september, laplace_september, poisson_summer, laplace_summer"
   ]
  },
  {
   "cell_type": "code",
   "execution_count": 1,
   "id": "4d16ae5d",
   "metadata": {},
   "outputs": [
    {
     "data": {
      "text/plain": [
       "(0.13764878766167912, 1.1001497425828485e-05)"
      ]
     },
     "execution_count": 1,
     "metadata": {},
     "output_type": "execute_result"
    }
   ],
   "source": [
    "import math\n",
    "\n",
    "# Функция для расчета вероятности по биномиальному распределению (Бернулли)\n",
    "def binomial_prob(n, p, k):\n",
    "    coeff = math.comb(n, k)  # Биномиальный коэффициент\n",
    "    return coeff * (p ** k) * ((1 - p) ** (n - k))\n",
    "\n",
    "# Данные для сентября и лета\n",
    "n = 72\n",
    "p_september = 30 / 365\n",
    "p_summer = 92 / 365\n",
    "k = 4\n",
    "\n",
    "# Вероятности по Бернулли для сентября и лета\n",
    "bernoulli_september = binomial_prob(n, p_september, k)\n",
    "bernoulli_summer = binomial_prob(n, p_summer, k)\n",
    "\n",
    "bernoulli_september, bernoulli_summer"
   ]
  },
  {
   "cell_type": "code",
   "execution_count": 5,
   "id": "6027cd03",
   "metadata": {},
   "outputs": [
    {
     "name": "stdout",
     "output_type": "stream",
     "text": [
      "Defaulting to user installation because normal site-packages is not writeable\n",
      "Collecting matplotlib\n",
      "  Downloading matplotlib-3.9.2-cp39-cp39-macosx_11_0_arm64.whl (7.8 MB)\n",
      "\u001b[K     |████████████████████████████████| 7.8 MB 1.6 MB/s eta 0:00:01\n",
      "\u001b[?25hCollecting fonttools>=4.22.0\n",
      "  Downloading fonttools-4.54.1-cp39-cp39-macosx_11_0_arm64.whl (2.3 MB)\n",
      "\u001b[K     |████████████████████████████████| 2.3 MB 75.9 MB/s eta 0:00:01\n",
      "\u001b[?25hCollecting importlib-resources>=3.2.0\n",
      "  Downloading importlib_resources-6.4.5-py3-none-any.whl (36 kB)\n",
      "Collecting contourpy>=1.0.1\n",
      "  Downloading contourpy-1.3.0-cp39-cp39-macosx_11_0_arm64.whl (249 kB)\n",
      "\u001b[K     |████████████████████████████████| 249 kB 81.2 MB/s eta 0:00:01\n",
      "\u001b[?25hRequirement already satisfied: numpy>=1.23 in /Users/mikhailmogilnikov/Library/Python/3.9/lib/python/site-packages (from matplotlib) (1.26.4)\n",
      "Requirement already satisfied: packaging>=20.0 in /Users/mikhailmogilnikov/Library/Python/3.9/lib/python/site-packages (from matplotlib) (24.0)\n",
      "Collecting kiwisolver>=1.3.1\n",
      "  Downloading kiwisolver-1.4.7-cp39-cp39-macosx_11_0_arm64.whl (64 kB)\n",
      "\u001b[K     |████████████████████████████████| 64 kB 6.3 MB/s eta 0:00:01\n",
      "\u001b[?25hCollecting pillow>=8\n",
      "  Downloading pillow-10.4.0-cp39-cp39-macosx_11_0_arm64.whl (3.4 MB)\n",
      "\u001b[K     |████████████████████████████████| 3.4 MB 48.3 MB/s eta 0:00:01\n",
      "\u001b[?25hCollecting cycler>=0.10\n",
      "  Downloading cycler-0.12.1-py3-none-any.whl (8.3 kB)\n",
      "Requirement already satisfied: python-dateutil>=2.7 in /Users/mikhailmogilnikov/Library/Python/3.9/lib/python/site-packages (from matplotlib) (2.9.0.post0)\n",
      "Collecting pyparsing>=2.3.1\n",
      "  Downloading pyparsing-3.2.0-py3-none-any.whl (106 kB)\n",
      "\u001b[K     |████████████████████████████████| 106 kB 10.8 MB/s eta 0:00:01\n",
      "\u001b[?25hRequirement already satisfied: zipp>=3.1.0 in /Users/mikhailmogilnikov/Library/Python/3.9/lib/python/site-packages (from importlib-resources>=3.2.0->matplotlib) (3.18.2)\n",
      "Requirement already satisfied: six>=1.5 in /Applications/Xcode.app/Contents/Developer/Library/Frameworks/Python3.framework/Versions/3.9/lib/python3.9/site-packages (from python-dateutil>=2.7->matplotlib) (1.15.0)\n",
      "Installing collected packages: pyparsing, pillow, kiwisolver, importlib-resources, fonttools, cycler, contourpy, matplotlib\n",
      "Successfully installed contourpy-1.3.0 cycler-0.12.1 fonttools-4.54.1 importlib-resources-6.4.5 kiwisolver-1.4.7 matplotlib-3.9.2 pillow-10.4.0 pyparsing-3.2.0\n",
      "\u001b[33mWARNING: You are using pip version 21.2.4; however, version 24.2 is available.\n",
      "You should consider upgrading via the '/Applications/Xcode.app/Contents/Developer/usr/bin/python3 -m pip install --upgrade pip' command.\u001b[0m\n",
      "Note: you may need to restart the kernel to use updated packages.\n",
      "Defaulting to user installation because normal site-packages is not writeable\n",
      "Requirement already satisfied: networkx in /Users/mikhailmogilnikov/Library/Python/3.9/lib/python/site-packages (3.2.1)\n",
      "\u001b[33mWARNING: You are using pip version 21.2.4; however, version 24.2 is available.\n",
      "You should consider upgrading via the '/Applications/Xcode.app/Contents/Developer/usr/bin/python3 -m pip install --upgrade pip' command.\u001b[0m\n",
      "Note: you may need to restart the kernel to use updated packages.\n"
     ]
    },
    {
     "name": "stderr",
     "output_type": "stream",
     "text": [
      "Matplotlib is building the font cache; this may take a moment.\n"
     ]
    },
    {
     "data": {
      "image/png": "[encoded data removed]",
      "text/plain": [
       "<Figure size 800x800 with 1 Axes>"
      ]
     },
     "metadata": {},
     "output_type": "display_data"
    }
   ],
   "source": [
    "%pip install matplotlib\n",
    "%pip install networkx\n",
    "\n",
    "import matplotlib.pyplot as plt\n",
    "import networkx as nx\n",
    "\n",
    "n = 50\n",
    "G = nx.random_regular_graph(3, n)\n",
    "\n",
    "# Настройки отображения\n",
    "plt.figure(figsize=(8, 8))\n",
    "pos = nx.spring_layout(G, seed=42)  # Расположение узлов графа\n",
    "\n",
    "# Рисуем граф\n",
    "nx.draw(G, pos, node_color='lightblue', with_labels=True, node_size=500, font_size=10, edge_color='gray')\n",
    "plt.show()"
   ]
  },
  {
   "cell_type": "code",
   "execution_count": 6,
   "id": "1dd4d172",
   "metadata": {},
   "outputs": [
    {
     "data": {
      "image/png": "[encoded data removed]",
      "text/plain": [
       "<Figure size 1000x800 with 1 Axes>"
      ]
     },
     "metadata": {},
     "output_type": "display_data"
    },
    {
     "name": "stdout",
     "output_type": "stream",
     "text": [
      "Упорядоченные дисциплины: ['Астрономия', 'Биология', 'География', 'История', 'Литература', 'Математика', 'Программирование', 'Физика', 'Философия', 'Химия']\n"
     ]
    }
   ],
   "source": [
    "import networkx as nx\n",
    "import matplotlib.pyplot as plt\n",
    "\n",
    "# Дисциплины\n",
    "disciplines = [\"Математика\", \"Программирование\", \"Физика\", \"История\", \"Литература\"]\n",
    "additional_disciplines = [\"Химия\", \"Биология\", \"География\", \"Философия\", \"Астрономия\"]\n",
    "all_disciplines = disciplines + additional_disciplines\n",
    "\n",
    "# Класс для узлов дерева\n",
    "class TreeNode:\n",
    "    def __init__(self, value):\n",
    "        self.value = value\n",
    "        self.left = None\n",
    "        self.right = None\n",
    "\n",
    "# Функция для добавления элемента в дерево\n",
    "def insert(root, value):\n",
    "    if root is None:\n",
    "        return TreeNode(value)\n",
    "    if value < root.value:\n",
    "        root.left = insert(root.left, value)\n",
    "    else:\n",
    "        root.right = insert(root.right, value)\n",
    "    return root\n",
    "\n",
    "# Функция для обхода дерева\n",
    "def inorder_traversal(root, result=[]):\n",
    "    if root:\n",
    "        inorder_traversal(root.left, result)\n",
    "        result.append(root.value)\n",
    "        inorder_traversal(root.right, result)\n",
    "    return result\n",
    "\n",
    "# Функция для визуализации дерева\n",
    "def visualize_bst(root, pos=None, x=0, y=0, layer=1, graph=None):\n",
    "    if graph is None:\n",
    "        graph = nx.DiGraph()\n",
    "    if pos is None:\n",
    "        pos = {}\n",
    "    \n",
    "    if root is not None:\n",
    "        graph.add_node(root.value)\n",
    "        pos[root.value] = (x, y)\n",
    "        if root.left:\n",
    "            graph.add_edge(root.value, root.left.value)\n",
    "            pos = visualize_bst(root.left, pos=pos, x=x - 1 / layer, y=y - 1, layer=layer + 1, graph=graph)\n",
    "        if root.right:\n",
    "            graph.add_edge(root.value, root.right.value)\n",
    "            pos = visualize_bst(root.right, pos=pos, x=x + 1 / layer, y=y - 1, layer=layer + 1, graph=graph)\n",
    "    return pos\n",
    "\n",
    "# Построение дерева\n",
    "root = None\n",
    "for discipline in all_disciplines:\n",
    "    root = insert(root, discipline)\n",
    "\n",
    "# Визуализация дерева\n",
    "plt.figure(figsize=(10, 8))\n",
    "graph = nx.DiGraph()\n",
    "positions = visualize_bst(root, graph=graph)\n",
    "nx.draw(graph, pos=positions, with_labels=True, node_color='lightblue', node_size=2000, font_size=15, font_weight='bold', arrows=False)\n",
    "plt.title(\"Двоичное дерево поиска для расширенного списка дисциплин\")\n",
    "plt.show()\n",
    "\n",
    "# Отображение упорядоченного списка дисциплин\n",
    "ordered_disciplines = inorder_traversal(root)\n"
   ]
  },
  {
   "cell_type": "code",
   "execution_count": 3,
   "id": "b122634f",
   "metadata": {},
   "outputs": [
    {
     "data": {
      "text/plain": [
       "180"
      ]
     },
     "execution_count": 3,
     "metadata": {},
     "output_type": "execute_result"
    }
   ],
   "source": [
    "def sum_of_squares(a, b):\n",
    "    total_sum = 0\n",
    "    while a != 0 and b != 0:\n",
    "        smaller = min(a, b)\n",
    "        total_sum += smaller ** 2\n",
    "        if a > b:\n",
    "            a = a - b\n",
    "        else:\n",
    "            b = b - a\n",
    "    return total_sum\n",
    "\n",
    "# Пример для чисел a=12 и b=15\n",
    "a, b = 12, 15\n",
    "result = sum_of_squares(a, b)\n",
    "result"
   ]
  },
  {
   "cell_type": "code",
   "execution_count": 4,
   "id": "c203c52c",
   "metadata": {},
   "outputs": [
    {
     "data": {
      "image/png": "[encoded data removed]",
      "text/plain": [
       "<Figure size 640x480 with 1 Axes>"
      ]
     },
     "metadata": {},
     "output_type": "display_data"
    }
   ],
   "source": [
    "import networkx as nx\n",
    "import matplotlib.pyplot as plt\n",
    "\n",
    "# Создаем граф\n",
    "G = nx.Graph()\n",
    "\n",
    "# Добавляем вершины\n",
    "vertices_A = [1, 2, 3]\n",
    "vertices_B = [4, 5, 6]\n",
    "\n",
    "# Добавляем ребра между вершинами из множества A и множества B\n",
    "edges = [(1, 4), (2, 5), (3, 6), (1, 5), (2, 6)]\n",
    "\n",
    "# Строим граф\n",
    "G.add_edges_from(edges)\n",
    "\n",
    "# Рисуем граф\n",
    "pos = nx.spring_layout(G)  # Для красивого расположения вершин\n",
    "nx.draw(G, pos, with_labels=True, node_color='lightblue', font_weight='bold', node_size=700)\n",
    "\n",
    "# Подписываем ребра\n",
    "edge_labels = nx.get_edge_attributes(G, 'weight')\n",
    "nx.draw_networkx_edge_labels(G, pos, edge_labels=edge_labels)\n",
    "\n",
    "# Показываем граф\n",
    "plt.show()"
   ]
  },
  {
   "cell_type": "code",
   "execution_count": 11,
   "id": "36ecd4cc",
   "metadata": {},
   "outputs": [
    {
     "name": "stdout",
     "output_type": "stream",
     "text": [
      "   Инженер Анатолий  Наталья  Зоя  Петр  Василий Иваныч\n",
      "0                 5        1    2     4               3\n"
     ]
    }
   ],
   "source": [
    "import itertools\n",
    "import pandas as pd\n",
    "\n",
    "# Все возможные варианты финиширования (5! = 120 комбинаций)\n",
    "places = list(itertools.permutations([1, 2, 3, 4, 5]))\n",
    "\n",
    "employees = ['Инженер Анатолий', 'Наталья', 'Зоя', 'Петр', 'Василий Иваныч']\n",
    "\n",
    "def check_conditions(order):\n",
    "    A, N, Z, P, V = order\n",
    "\n",
    "    # Условия для каждого наблюдателя (одно высказывание верное, другое нет)\n",
    "    observer1 = (V == 1 and P != 4) or (V != 1 and P == 4)\n",
    "    observer2 = (N == 2 and P != 4) or (N != 2 and P == 4)\n",
    "    observer3 = (N == 2 and V != 3) or (N != 2 and V == 3)\n",
    "    observer4 = (A == 1 and Z != 2) or (A != 1 and Z == 2)\n",
    "    observer5 = (Z == 3 and A != 5) or (Z != 3 and A == 5)\n",
    "\n",
    "    # Все наблюдатели должны быть удовлетворены\n",
    "    return observer1 and observer2 and observer3 and observer4 and observer5\n",
    "\n",
    "# Формируем таблицу\n",
    "results = []\n",
    "for order in places:\n",
    "    if check_conditions(order):\n",
    "        results.append(order)\n",
    "\n",
    "# Преобразуем результат в DataFrame для отображения\n",
    "df = pd.DataFrame(results, columns=employees)\n",
    "\n",
    "print(df)"
   ]
  },
  {
   "cell_type": "code",
   "execution_count": 12,
   "id": "b181c318",
   "metadata": {},
   "outputs": [
    {
     "data": {
      "text/plain": [
       "16384"
      ]
     },
     "execution_count": 12,
     "metadata": {},
     "output_type": "execute_result"
    }
   ],
   "source": [
    "import math\n",
    "\n",
    "# Функция для вычисления комбинаций C(n, k)\n",
    "def combinations(n, k):\n",
    "    return math.factorial(n) // (math.factorial(k) * math.factorial(n - k))\n",
    "\n",
    "# Вычисление количества способов для всех возможных разбиений числа 15\n",
    "n = 15\n",
    "total_ways = 0\n",
    "\n",
    "for k in range(1, n + 1):\n",
    "    total_ways += combinations(n - 1, k - 1)\n",
    "\n",
    "total_ways"
   ]
  },
  {
   "cell_type": "code",
   "execution_count": null,
   "id": "f1a3425e",
   "metadata": {},
   "outputs": [],
   "source": []
  },
  {
   "cell_type": "code",
   "execution_count": null,
   "id": "baa51c81",
   "metadata": {},
   "outputs": [],
   "source": []
  }
 ],
 "metadata": {
  "kernelspec": {
   "display_name": "Python 3",
   "language": "python",
   "name": "python3"
  },
  "language_info": {
   "codemirror_mode": {
    "name": "ipython",
    "version": 3
   },
   "file_extension": ".py",
   "mimetype": "text/x-python",
   "name": "python",
   "nbconvert_exporter": "python",
   "pygments_lexer": "ipython3",
   "version": "3.9.6"
  }
 },
 "nbformat": 4,
 "nbformat_minor": 5
}
