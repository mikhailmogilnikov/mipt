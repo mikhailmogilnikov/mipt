{
 "cells": [
  {
   "cell_type": "code",
   "execution_count": 18,
   "metadata": {},
   "outputs": [
    {
     "name": "stdout",
     "output_type": "stream",
     "text": [
      "Документ не найден\n",
      "Команда не найдена. Попробуйте еще.\n",
      "Документ хранится на полке: 2\n",
      "Документ хранится на полке: 1\n"
     ]
    }
   ],
   "source": [
    "documents = [\n",
    " {'type': 'passport', 'number': '2207 876234', 'name': 'Василий Гупкин'},\n",
    " {'type': 'invoice', 'number': '11-2', 'name': 'Геннадий Покемонов'},\n",
    " {'type': 'insurance', 'number': '10006', 'name': 'Аристарх Павлов'}\n",
    "]\n",
    "\n",
    "directories = {\n",
    " '1': ['2207 876234', '11-2'],\n",
    " '2': ['10006'],\n",
    " '3': []\n",
    "}\n",
    "\n",
    "def find_directory_by_number(number):\n",
    "  for key, values in directories.items():\n",
    "    for num in values:\n",
    "      if number == num:\n",
    "        return key\n",
    "      \n",
    "def get_doc_directory():\n",
    "  doc_num = input('Введите номер документа:')\n",
    "  result = find_directory_by_number(doc_num)\n",
    "  if result:\n",
    "    print(f\"Документ хранится на полке: {result}\")\n",
    "  else:\n",
    "    print('Документ не найден')\n",
    "\n",
    "def find_document_by_key(key, value):\n",
    "  for doc in documents:\n",
    "    if doc[key] == value:\n",
    "      return doc\n",
    "\n",
    "def get_doc_owner():\n",
    "  doc_num = input('Введите номер документа:')\n",
    "  result = find_document_by_key('number', doc_num)\n",
    "  if result:\n",
    "    print(f\"Владелец документа: {result['name']}\")\n",
    "  else:\n",
    "    print('Владелец документа: владелец не найден')\n",
    "\n",
    "def call_command(command):\n",
    "  if (command == 'p'):\n",
    "    get_doc_owner()\n",
    "  elif (command == 's'):\n",
    "    get_doc_directory()\n",
    "  else:\n",
    "    print('Команда не найдена. Попробуйте еще.')\n",
    "  \n",
    "def main():\n",
    "  while True:\n",
    "    command = input(\"Введите команду ('p' - найти владельца, 's' - найти директорию, 'q' - выйти): \").strip().lower()\n",
    "    if (command == 'q'):\n",
    "      break\n",
    "    call_command(command)\n",
    "    \n",
    "main()"
   ]
  }
 ],
 "metadata": {
  "kernelspec": {
   "display_name": "Python 3",
   "language": "python",
   "name": "python3"
  },
  "language_info": {
   "codemirror_mode": {
    "name": "ipython",
    "version": 3
   },
   "file_extension": ".py",
   "mimetype": "text/x-python",
   "name": "python",
   "nbconvert_exporter": "python",
   "pygments_lexer": "ipython3",
   "version": "3.9.6"
  }
 },
 "nbformat": 4,
 "nbformat_minor": 2
}
