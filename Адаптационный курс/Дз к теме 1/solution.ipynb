{
 "cells": [
  {
   "cell_type": "markdown",
   "id": "72176b6b-9f20-4fbe-a85d-8d0b05b3e320",
   "metadata": {},
   "source": [
    "# Задание 1"
   ]
  },
  {
   "cell_type": "code",
   "execution_count": 55,
   "id": "f7109cc2-6b51-48b6-baf8-a5e4105bc389",
   "metadata": {},
   "outputs": [
    {
     "name": "stdin",
     "output_type": "stream",
     "text": [
      "Введите год 2020\n"
     ]
    },
    {
     "name": "stdout",
     "output_type": "stream",
     "text": [
      "Год високосный\n"
     ]
    }
   ],
   "source": [
    "year = int(input('Введите год'))\n",
    "\n",
    "if (year % 4 == 0):\n",
    "    print('Високосный год')\n",
    "else:\n",
    "    print('Обычный год')"
   ]
  },
  {
   "cell_type": "markdown",
   "id": "aa24d3e6-3a91-4603-9869-18a2d6b934b1",
   "metadata": {},
   "source": [
    "# Задание 2"
   ]
  },
  {
   "cell_type": "code",
   "execution_count": 82,
   "id": "f5614f36-7c63-40e6-a71a-ff6ecf971859",
   "metadata": {},
   "outputs": [
    {
     "name": "stdin",
     "output_type": "stream",
     "text": [
      "Введите номер билета 4123521\n"
     ]
    },
    {
     "name": "stdout",
     "output_type": "stream",
     "text": [
      "В билете должно быть 6 цифр\n"
     ]
    }
   ],
   "source": [
    "ticketNumber = input('Введите номер билета')\n",
    "\n",
    "numbers = list(map(int, str(ticketNumber)))\n",
    "\n",
    "if (len(numbers) == 6):\n",
    "    if (numbers[0] + numbers[1] + numbers[2] == numbers[3] + numbers[4] + numbers[5]):\n",
    "        print('Счастливый билет')\n",
    "    else:\n",
    "        print('Несчастливый билет')\n",
    "else:\n",
    "    print('В билете должно быть 6 цифр')"
   ]
  }
 ],
 "metadata": {
  "kernelspec": {
   "display_name": "Python 3 (ipykernel)",
   "language": "python",
   "name": "python3"
  },
  "language_info": {
   "codemirror_mode": {
    "name": "ipython",
    "version": 3
   },
   "file_extension": ".py",
   "mimetype": "text/x-python",
   "name": "python",
   "nbconvert_exporter": "python",
   "pygments_lexer": "ipython3",
   "version": "3.12.4"
  }
 },
 "nbformat": 4,
 "nbformat_minor": 5
}
